{
  "cells": [
    {
      "cell_type": "markdown",
      "metadata": {
        "id": "view-in-github",
        "colab_type": "text"
      },
      "source": [
        "<a href=\"https://colab.research.google.com/github/justina-tran/yelp-reviews/blob/master/notebooks/05_classification.ipynb\" target=\"_parent\"><img src=\"https://colab.research.google.com/assets/colab-badge.svg\" alt=\"Open In Colab\"/></a>"
      ]
    },
    {
      "cell_type": "markdown",
      "metadata": {
        "id": "HKzO4VPTgJ2v"
      },
      "source": [
        "## Build Classifier\n",
        "The objective is to build a classifier that predicts the rating (1-5) of a review, using the cleaned tokenized words from the reviews. \n",
        "\n",
        "I will build a pipeline to perform text vectorization and a grid search for different hyperparameters for various classification models. The models that I will explore with for classification are:\n",
        "- logistic regression\n",
        "- multinomial naive bayes\n",
        "- random forest\n",
        "- lightgbm\n",
        "- xgboost\n",
        "\n"
      ]
    },
    {
      "cell_type": "code",
      "execution_count": 2,
      "metadata": {
        "id": "x9ha6gRugQn0"
      },
      "outputs": [],
      "source": [
        "import pandas as pd\n",
        "import seaborn as sns\n",
        "import numpy as np\n",
        "import time\n",
        "import plotly.express as px\n",
        "\n",
        "# setting dir\n",
        "import os\n",
        "os.chdir('/content/drive/MyDrive/Projects/NLP/data')"
      ]
    },
    {
      "cell_type": "code",
      "execution_count": null,
      "metadata": {
        "id": "j7CQZi-Gf_Bv"
      },
      "outputs": [],
      "source": [
        "from sklearn.model_selection import train_test_split\n",
        "from sklearn.feature_extraction.text import TfidfVectorizer\n",
        "from imblearn.over_sampling import SMOTE\n",
        "\n",
        "from imblearn.pipeline import Pipeline, make_pipeline\n",
        "from sklearn.linear_model import LogisticRegression\n",
        "from sklearn.naive_bayes import MultinomialNB\n",
        "from sklearn.svm import LinearSVC\n",
        "from sklearn.linear_model import SGDClassifier\n",
        "from sklearn.model_selection import RandomizedSearchCV\n",
        "from sklearn.ensemble import RandomForestClassifier\n",
        "from xgboost import XGBClassifier\n",
        "import lightgbm as lgbm\n",
        "from lightgbm import LGBMClassifier\n",
        "\n",
        "from sklearn.model_selection import GridSearchCV, StratifiedKFold\n",
        "from sklearn.metrics import accuracy_score,recall_score,precision_score,f1_score, classification_report, matthews_corrcoef\n",
        "from sklearn.metrics import confusion_matrix\n",
        "\n",
        "import joblib"
      ]
    },
    {
      "cell_type": "code",
      "execution_count": null,
      "metadata": {
        "colab": {
          "base_uri": "https://localhost:8080/"
        },
        "id": "UExOJH28W0-n",
        "outputId": "57479e8f-a22c-4b02-c90c-8da17966016a"
      },
      "outputs": [
        {
          "output_type": "stream",
          "name": "stderr",
          "text": [
            "[nltk_data] Downloading package stopwords to /root/nltk_data...\n",
            "[nltk_data]   Unzipping corpora/stopwords.zip.\n"
          ]
        },
        {
          "output_type": "execute_result",
          "data": {
            "text/plain": [
              "True"
            ]
          },
          "metadata": {},
          "execution_count": 3
        }
      ],
      "source": [
        "from nltk.corpus import stopwords\n",
        "import nltk\n",
        "nltk.download('stopwords')"
      ]
    },
    {
      "cell_type": "code",
      "execution_count": null,
      "metadata": {
        "colab": {
          "base_uri": "https://localhost:8080/"
        },
        "id": "rYO-gID3gstu",
        "outputId": "3a9683a9-8b73-4db1-9502-438f0aa4203d"
      },
      "outputs": [
        {
          "output_type": "stream",
          "name": "stdout",
          "text": [
            "<class 'pandas.core.frame.DataFrame'>\n",
            "RangeIndex: 13211 entries, 0 to 13210\n",
            "Data columns (total 13 columns):\n",
            " #   Column        Non-Null Count  Dtype  \n",
            "---  ------        --------------  -----  \n",
            " 0   store         13211 non-null  object \n",
            " 1   date          13211 non-null  object \n",
            " 2   username      13211 non-null  object \n",
            " 3   user_loc      13211 non-null  object \n",
            " 4   rating        13211 non-null  object \n",
            " 5   reviews       13211 non-null  object \n",
            " 6   cleaned       13211 non-null  object \n",
            " 7   cleaned_text  13210 non-null  object \n",
            " 8   positive      13211 non-null  float64\n",
            " 9   negative      13211 non-null  float64\n",
            " 10  neutral       13211 non-null  float64\n",
            " 11  compound      13211 non-null  float64\n",
            " 12  sentiment     13211 non-null  object \n",
            "dtypes: float64(4), object(9)\n",
            "memory usage: 1.3+ MB\n"
          ]
        }
      ],
      "source": [
        "df = pd.read_csv('reviews_cleaned')\n",
        "df.info()"
      ]
    },
    {
      "cell_type": "code",
      "execution_count": null,
      "metadata": {
        "colab": {
          "base_uri": "https://localhost:8080/",
          "height": 81
        },
        "id": "z_H_emGMh5PJ",
        "outputId": "0d8d1740-334f-4229-ceac-322c8f9912d0"
      },
      "outputs": [
        {
          "output_type": "execute_result",
          "data": {
            "text/plain": [
              "                           store       date   username       user_loc  \\\n",
              "4295  yaya-tea-garden-new-york-3  10/6/2011  Bonnie T.  Manhattan, NY   \n",
              "\n",
              "             rating reviews cleaned cleaned_text  positive  negative  neutral  \\\n",
              "4295  5 star rating      :)      []          NaN       1.0       0.0      0.0   \n",
              "\n",
              "      compound sentiment  \n",
              "4295      0.46  positive  "
            ],
            "text/html": [
              "\n",
              "  <div id=\"df-ec6277ed-86e3-40ee-b7d8-05ecfee9a678\">\n",
              "    <div class=\"colab-df-container\">\n",
              "      <div>\n",
              "<style scoped>\n",
              "    .dataframe tbody tr th:only-of-type {\n",
              "        vertical-align: middle;\n",
              "    }\n",
              "\n",
              "    .dataframe tbody tr th {\n",
              "        vertical-align: top;\n",
              "    }\n",
              "\n",
              "    .dataframe thead th {\n",
              "        text-align: right;\n",
              "    }\n",
              "</style>\n",
              "<table border=\"1\" class=\"dataframe\">\n",
              "  <thead>\n",
              "    <tr style=\"text-align: right;\">\n",
              "      <th></th>\n",
              "      <th>store</th>\n",
              "      <th>date</th>\n",
              "      <th>username</th>\n",
              "      <th>user_loc</th>\n",
              "      <th>rating</th>\n",
              "      <th>reviews</th>\n",
              "      <th>cleaned</th>\n",
              "      <th>cleaned_text</th>\n",
              "      <th>positive</th>\n",
              "      <th>negative</th>\n",
              "      <th>neutral</th>\n",
              "      <th>compound</th>\n",
              "      <th>sentiment</th>\n",
              "    </tr>\n",
              "  </thead>\n",
              "  <tbody>\n",
              "    <tr>\n",
              "      <th>4295</th>\n",
              "      <td>yaya-tea-garden-new-york-3</td>\n",
              "      <td>10/6/2011</td>\n",
              "      <td>Bonnie T.</td>\n",
              "      <td>Manhattan, NY</td>\n",
              "      <td>5 star rating</td>\n",
              "      <td>:)</td>\n",
              "      <td>[]</td>\n",
              "      <td>NaN</td>\n",
              "      <td>1.0</td>\n",
              "      <td>0.0</td>\n",
              "      <td>0.0</td>\n",
              "      <td>0.46</td>\n",
              "      <td>positive</td>\n",
              "    </tr>\n",
              "  </tbody>\n",
              "</table>\n",
              "</div>\n",
              "      <button class=\"colab-df-convert\" onclick=\"convertToInteractive('df-ec6277ed-86e3-40ee-b7d8-05ecfee9a678')\"\n",
              "              title=\"Convert this dataframe to an interactive table.\"\n",
              "              style=\"display:none;\">\n",
              "        \n",
              "  <svg xmlns=\"http://www.w3.org/2000/svg\" height=\"24px\"viewBox=\"0 0 24 24\"\n",
              "       width=\"24px\">\n",
              "    <path d=\"M0 0h24v24H0V0z\" fill=\"none\"/>\n",
              "    <path d=\"M18.56 5.44l.94 2.06.94-2.06 2.06-.94-2.06-.94-.94-2.06-.94 2.06-2.06.94zm-11 1L8.5 8.5l.94-2.06 2.06-.94-2.06-.94L8.5 2.5l-.94 2.06-2.06.94zm10 10l.94 2.06.94-2.06 2.06-.94-2.06-.94-.94-2.06-.94 2.06-2.06.94z\"/><path d=\"M17.41 7.96l-1.37-1.37c-.4-.4-.92-.59-1.43-.59-.52 0-1.04.2-1.43.59L10.3 9.45l-7.72 7.72c-.78.78-.78 2.05 0 2.83L4 21.41c.39.39.9.59 1.41.59.51 0 1.02-.2 1.41-.59l7.78-7.78 2.81-2.81c.8-.78.8-2.07 0-2.86zM5.41 20L4 18.59l7.72-7.72 1.47 1.35L5.41 20z\"/>\n",
              "  </svg>\n",
              "      </button>\n",
              "      \n",
              "  <style>\n",
              "    .colab-df-container {\n",
              "      display:flex;\n",
              "      flex-wrap:wrap;\n",
              "      gap: 12px;\n",
              "    }\n",
              "\n",
              "    .colab-df-convert {\n",
              "      background-color: #E8F0FE;\n",
              "      border: none;\n",
              "      border-radius: 50%;\n",
              "      cursor: pointer;\n",
              "      display: none;\n",
              "      fill: #1967D2;\n",
              "      height: 32px;\n",
              "      padding: 0 0 0 0;\n",
              "      width: 32px;\n",
              "    }\n",
              "\n",
              "    .colab-df-convert:hover {\n",
              "      background-color: #E2EBFA;\n",
              "      box-shadow: 0px 1px 2px rgba(60, 64, 67, 0.3), 0px 1px 3px 1px rgba(60, 64, 67, 0.15);\n",
              "      fill: #174EA6;\n",
              "    }\n",
              "\n",
              "    [theme=dark] .colab-df-convert {\n",
              "      background-color: #3B4455;\n",
              "      fill: #D2E3FC;\n",
              "    }\n",
              "\n",
              "    [theme=dark] .colab-df-convert:hover {\n",
              "      background-color: #434B5C;\n",
              "      box-shadow: 0px 1px 3px 1px rgba(0, 0, 0, 0.15);\n",
              "      filter: drop-shadow(0px 1px 2px rgba(0, 0, 0, 0.3));\n",
              "      fill: #FFFFFF;\n",
              "    }\n",
              "  </style>\n",
              "\n",
              "      <script>\n",
              "        const buttonEl =\n",
              "          document.querySelector('#df-ec6277ed-86e3-40ee-b7d8-05ecfee9a678 button.colab-df-convert');\n",
              "        buttonEl.style.display =\n",
              "          google.colab.kernel.accessAllowed ? 'block' : 'none';\n",
              "\n",
              "        async function convertToInteractive(key) {\n",
              "          const element = document.querySelector('#df-ec6277ed-86e3-40ee-b7d8-05ecfee9a678');\n",
              "          const dataTable =\n",
              "            await google.colab.kernel.invokeFunction('convertToInteractive',\n",
              "                                                     [key], {});\n",
              "          if (!dataTable) return;\n",
              "\n",
              "          const docLinkHtml = 'Like what you see? Visit the ' +\n",
              "            '<a target=\"_blank\" href=https://colab.research.google.com/notebooks/data_table.ipynb>data table notebook</a>'\n",
              "            + ' to learn more about interactive tables.';\n",
              "          element.innerHTML = '';\n",
              "          dataTable['output_type'] = 'display_data';\n",
              "          await google.colab.output.renderOutput(dataTable, element);\n",
              "          const docLink = document.createElement('div');\n",
              "          docLink.innerHTML = docLinkHtml;\n",
              "          element.appendChild(docLink);\n",
              "        }\n",
              "      </script>\n",
              "    </div>\n",
              "  </div>\n",
              "  "
            ]
          },
          "metadata": {},
          "execution_count": 5
        }
      ],
      "source": [
        "df[df['cleaned_text'].isna()]"
      ]
    },
    {
      "cell_type": "code",
      "execution_count": null,
      "metadata": {
        "id": "FKP66xgeiIE_"
      },
      "outputs": [],
      "source": [
        "df.dropna(inplace=True)"
      ]
    },
    {
      "cell_type": "code",
      "execution_count": null,
      "metadata": {
        "colab": {
          "base_uri": "https://localhost:8080/",
          "height": 337
        },
        "id": "LtPEHvF-3xOC",
        "outputId": "693fdfc4-5dba-4fef-85e9-422d51e46ff6"
      },
      "outputs": [
        {
          "output_type": "execute_result",
          "data": {
            "text/plain": [
              "                   store        date     username         user_loc  \\\n",
              "0  bar-pa-tea-new-york-2  11/29/2020     Casey W.     New York, NY   \n",
              "1  bar-pa-tea-new-york-2   8/13/2020     Marie R.    Edgewater, NJ   \n",
              "2  bar-pa-tea-new-york-2   7/21/2020   Mariama K.  Los Angeles, CA   \n",
              "3  bar-pa-tea-new-york-2   6/25/2020      Veon C.   Washington, DC   \n",
              "4  bar-pa-tea-new-york-2   6/14/2020  Jessleen C.     Flushing, NY   \n",
              "\n",
              "          rating                                            reviews  \\\n",
              "0  5 star rating  - absolutely one of my favorite ice cream plac...   \n",
              "1  1 star rating  My experience was really bad. I'm usually a bu...   \n",
              "2  3 star rating  Good but not amazing. Staff was not very frien...   \n",
              "3  5 star rating  One of the best boba I've ever had. I usually ...   \n",
              "4  5 star rating  I saw this place everyone on my timeline and h...   \n",
              "\n",
              "                                             cleaned  \\\n",
              "0  ['absolutely', 'one', 'favorite', 'ice', 'crea...   \n",
              "1  ['experience', 'really', 'bad', 'usually', 'fa...   \n",
              "2  ['good', 'amazing', 'staff', 'friendly', 'mini...   \n",
              "3  ['one', 'best', 'ever', 'usually', 'get', 'adf...   \n",
              "4  ['saw', 'place', 'everyone', 'timeline', 'chec...   \n",
              "\n",
              "                                        cleaned_text  positive  negative  \\\n",
              "0  absolutely one favorite ice cream place city r...      0.20      0.00   \n",
              "1  experience really bad usually fanatic think pl...      0.12      0.17   \n",
              "2  good amazing staff friendly minimal seating ge...      0.21      0.33   \n",
              "3  one best ever usually get adffogato believe va...      0.26      0.00   \n",
              "4  saw place everyone timeline check disappoint g...      0.10      0.04   \n",
              "\n",
              "   neutral  compound sentiment  \n",
              "0     0.80      0.88  positive  \n",
              "1     0.71     -0.97  negative  \n",
              "2     0.46     -0.59  negative  \n",
              "3     0.74      0.99  positive  \n",
              "4     0.87      0.53  positive  "
            ],
            "text/html": [
              "\n",
              "  <div id=\"df-e15b8ecf-6faa-42d5-8436-4cb5a0870e14\">\n",
              "    <div class=\"colab-df-container\">\n",
              "      <div>\n",
              "<style scoped>\n",
              "    .dataframe tbody tr th:only-of-type {\n",
              "        vertical-align: middle;\n",
              "    }\n",
              "\n",
              "    .dataframe tbody tr th {\n",
              "        vertical-align: top;\n",
              "    }\n",
              "\n",
              "    .dataframe thead th {\n",
              "        text-align: right;\n",
              "    }\n",
              "</style>\n",
              "<table border=\"1\" class=\"dataframe\">\n",
              "  <thead>\n",
              "    <tr style=\"text-align: right;\">\n",
              "      <th></th>\n",
              "      <th>store</th>\n",
              "      <th>date</th>\n",
              "      <th>username</th>\n",
              "      <th>user_loc</th>\n",
              "      <th>rating</th>\n",
              "      <th>reviews</th>\n",
              "      <th>cleaned</th>\n",
              "      <th>cleaned_text</th>\n",
              "      <th>positive</th>\n",
              "      <th>negative</th>\n",
              "      <th>neutral</th>\n",
              "      <th>compound</th>\n",
              "      <th>sentiment</th>\n",
              "    </tr>\n",
              "  </thead>\n",
              "  <tbody>\n",
              "    <tr>\n",
              "      <th>0</th>\n",
              "      <td>bar-pa-tea-new-york-2</td>\n",
              "      <td>11/29/2020</td>\n",
              "      <td>Casey W.</td>\n",
              "      <td>New York, NY</td>\n",
              "      <td>5 star rating</td>\n",
              "      <td>- absolutely one of my favorite ice cream plac...</td>\n",
              "      <td>['absolutely', 'one', 'favorite', 'ice', 'crea...</td>\n",
              "      <td>absolutely one favorite ice cream place city r...</td>\n",
              "      <td>0.20</td>\n",
              "      <td>0.00</td>\n",
              "      <td>0.80</td>\n",
              "      <td>0.88</td>\n",
              "      <td>positive</td>\n",
              "    </tr>\n",
              "    <tr>\n",
              "      <th>1</th>\n",
              "      <td>bar-pa-tea-new-york-2</td>\n",
              "      <td>8/13/2020</td>\n",
              "      <td>Marie R.</td>\n",
              "      <td>Edgewater, NJ</td>\n",
              "      <td>1 star rating</td>\n",
              "      <td>My experience was really bad. I'm usually a bu...</td>\n",
              "      <td>['experience', 'really', 'bad', 'usually', 'fa...</td>\n",
              "      <td>experience really bad usually fanatic think pl...</td>\n",
              "      <td>0.12</td>\n",
              "      <td>0.17</td>\n",
              "      <td>0.71</td>\n",
              "      <td>-0.97</td>\n",
              "      <td>negative</td>\n",
              "    </tr>\n",
              "    <tr>\n",
              "      <th>2</th>\n",
              "      <td>bar-pa-tea-new-york-2</td>\n",
              "      <td>7/21/2020</td>\n",
              "      <td>Mariama K.</td>\n",
              "      <td>Los Angeles, CA</td>\n",
              "      <td>3 star rating</td>\n",
              "      <td>Good but not amazing. Staff was not very frien...</td>\n",
              "      <td>['good', 'amazing', 'staff', 'friendly', 'mini...</td>\n",
              "      <td>good amazing staff friendly minimal seating ge...</td>\n",
              "      <td>0.21</td>\n",
              "      <td>0.33</td>\n",
              "      <td>0.46</td>\n",
              "      <td>-0.59</td>\n",
              "      <td>negative</td>\n",
              "    </tr>\n",
              "    <tr>\n",
              "      <th>3</th>\n",
              "      <td>bar-pa-tea-new-york-2</td>\n",
              "      <td>6/25/2020</td>\n",
              "      <td>Veon C.</td>\n",
              "      <td>Washington, DC</td>\n",
              "      <td>5 star rating</td>\n",
              "      <td>One of the best boba I've ever had. I usually ...</td>\n",
              "      <td>['one', 'best', 'ever', 'usually', 'get', 'adf...</td>\n",
              "      <td>one best ever usually get adffogato believe va...</td>\n",
              "      <td>0.26</td>\n",
              "      <td>0.00</td>\n",
              "      <td>0.74</td>\n",
              "      <td>0.99</td>\n",
              "      <td>positive</td>\n",
              "    </tr>\n",
              "    <tr>\n",
              "      <th>4</th>\n",
              "      <td>bar-pa-tea-new-york-2</td>\n",
              "      <td>6/14/2020</td>\n",
              "      <td>Jessleen C.</td>\n",
              "      <td>Flushing, NY</td>\n",
              "      <td>5 star rating</td>\n",
              "      <td>I saw this place everyone on my timeline and h...</td>\n",
              "      <td>['saw', 'place', 'everyone', 'timeline', 'chec...</td>\n",
              "      <td>saw place everyone timeline check disappoint g...</td>\n",
              "      <td>0.10</td>\n",
              "      <td>0.04</td>\n",
              "      <td>0.87</td>\n",
              "      <td>0.53</td>\n",
              "      <td>positive</td>\n",
              "    </tr>\n",
              "  </tbody>\n",
              "</table>\n",
              "</div>\n",
              "      <button class=\"colab-df-convert\" onclick=\"convertToInteractive('df-e15b8ecf-6faa-42d5-8436-4cb5a0870e14')\"\n",
              "              title=\"Convert this dataframe to an interactive table.\"\n",
              "              style=\"display:none;\">\n",
              "        \n",
              "  <svg xmlns=\"http://www.w3.org/2000/svg\" height=\"24px\"viewBox=\"0 0 24 24\"\n",
              "       width=\"24px\">\n",
              "    <path d=\"M0 0h24v24H0V0z\" fill=\"none\"/>\n",
              "    <path d=\"M18.56 5.44l.94 2.06.94-2.06 2.06-.94-2.06-.94-.94-2.06-.94 2.06-2.06.94zm-11 1L8.5 8.5l.94-2.06 2.06-.94-2.06-.94L8.5 2.5l-.94 2.06-2.06.94zm10 10l.94 2.06.94-2.06 2.06-.94-2.06-.94-.94-2.06-.94 2.06-2.06.94z\"/><path d=\"M17.41 7.96l-1.37-1.37c-.4-.4-.92-.59-1.43-.59-.52 0-1.04.2-1.43.59L10.3 9.45l-7.72 7.72c-.78.78-.78 2.05 0 2.83L4 21.41c.39.39.9.59 1.41.59.51 0 1.02-.2 1.41-.59l7.78-7.78 2.81-2.81c.8-.78.8-2.07 0-2.86zM5.41 20L4 18.59l7.72-7.72 1.47 1.35L5.41 20z\"/>\n",
              "  </svg>\n",
              "      </button>\n",
              "      \n",
              "  <style>\n",
              "    .colab-df-container {\n",
              "      display:flex;\n",
              "      flex-wrap:wrap;\n",
              "      gap: 12px;\n",
              "    }\n",
              "\n",
              "    .colab-df-convert {\n",
              "      background-color: #E8F0FE;\n",
              "      border: none;\n",
              "      border-radius: 50%;\n",
              "      cursor: pointer;\n",
              "      display: none;\n",
              "      fill: #1967D2;\n",
              "      height: 32px;\n",
              "      padding: 0 0 0 0;\n",
              "      width: 32px;\n",
              "    }\n",
              "\n",
              "    .colab-df-convert:hover {\n",
              "      background-color: #E2EBFA;\n",
              "      box-shadow: 0px 1px 2px rgba(60, 64, 67, 0.3), 0px 1px 3px 1px rgba(60, 64, 67, 0.15);\n",
              "      fill: #174EA6;\n",
              "    }\n",
              "\n",
              "    [theme=dark] .colab-df-convert {\n",
              "      background-color: #3B4455;\n",
              "      fill: #D2E3FC;\n",
              "    }\n",
              "\n",
              "    [theme=dark] .colab-df-convert:hover {\n",
              "      background-color: #434B5C;\n",
              "      box-shadow: 0px 1px 3px 1px rgba(0, 0, 0, 0.15);\n",
              "      filter: drop-shadow(0px 1px 2px rgba(0, 0, 0, 0.3));\n",
              "      fill: #FFFFFF;\n",
              "    }\n",
              "  </style>\n",
              "\n",
              "      <script>\n",
              "        const buttonEl =\n",
              "          document.querySelector('#df-e15b8ecf-6faa-42d5-8436-4cb5a0870e14 button.colab-df-convert');\n",
              "        buttonEl.style.display =\n",
              "          google.colab.kernel.accessAllowed ? 'block' : 'none';\n",
              "\n",
              "        async function convertToInteractive(key) {\n",
              "          const element = document.querySelector('#df-e15b8ecf-6faa-42d5-8436-4cb5a0870e14');\n",
              "          const dataTable =\n",
              "            await google.colab.kernel.invokeFunction('convertToInteractive',\n",
              "                                                     [key], {});\n",
              "          if (!dataTable) return;\n",
              "\n",
              "          const docLinkHtml = 'Like what you see? Visit the ' +\n",
              "            '<a target=\"_blank\" href=https://colab.research.google.com/notebooks/data_table.ipynb>data table notebook</a>'\n",
              "            + ' to learn more about interactive tables.';\n",
              "          element.innerHTML = '';\n",
              "          dataTable['output_type'] = 'display_data';\n",
              "          await google.colab.output.renderOutput(dataTable, element);\n",
              "          const docLink = document.createElement('div');\n",
              "          docLink.innerHTML = docLinkHtml;\n",
              "          element.appendChild(docLink);\n",
              "        }\n",
              "      </script>\n",
              "    </div>\n",
              "  </div>\n",
              "  "
            ]
          },
          "metadata": {},
          "execution_count": 7
        }
      ],
      "source": [
        "df.head()"
      ]
    },
    {
      "cell_type": "code",
      "execution_count": null,
      "metadata": {
        "colab": {
          "base_uri": "https://localhost:8080/"
        },
        "id": "VM25qIGsXaHW",
        "outputId": "14f6685b-8f52-48dc-c68d-d40bebd420df"
      },
      "outputs": [
        {
          "output_type": "stream",
          "name": "stdout",
          "text": [
            "['i', 'me', 'my', 'myself', 'we', 'our', 'ours', 'ourselves', 'you', \"you're\", \"you've\", \"you'll\", \"you'd\", 'your', 'yours', 'yourself', 'yourselves', 'he', 'him', 'his', 'himself', 'she', \"she's\", 'her', 'hers', 'herself', 'it', \"it's\", 'its', 'itself', 'they', 'them', 'their', 'theirs', 'themselves', 'what', 'which', 'who', 'whom', 'this', 'that', \"that'll\", 'these', 'those', 'am', 'is', 'are', 'was', 'were', 'be', 'been', 'being', 'have', 'has', 'had', 'having', 'do', 'does', 'did', 'doing', 'a', 'an', 'the', 'and', 'but', 'if', 'or', 'because', 'as', 'until', 'while', 'of', 'at', 'by', 'for', 'with', 'about', 'against', 'between', 'into', 'through', 'during', 'before', 'after', 'above', 'below', 'to', 'from', 'up', 'down', 'in', 'out', 'on', 'off', 'over', 'under', 'again', 'further', 'then', 'once', 'here', 'there', 'when', 'where', 'why', 'how', 'all', 'any', 'both', 'each', 'few', 'more', 'most', 'other', 'some', 'such', 'no', 'nor', 'not', 'only', 'own', 'same', 'so', 'than', 'too', 'very', 's', 't', 'can', 'will', 'just', 'don', \"don't\", 'should', \"should've\", 'now', 'd', 'll', 'm', 'o', 're', 've', 'y', 'ain', 'aren', \"aren't\", 'couldn', \"couldn't\", 'didn', \"didn't\", 'doesn', \"doesn't\", 'hadn', \"hadn't\", 'hasn', \"hasn't\", 'haven', \"haven't\", 'isn', \"isn't\", 'ma', 'mightn', \"mightn't\", 'mustn', \"mustn't\", 'needn', \"needn't\", 'shan', \"shan't\", 'shouldn', \"shouldn't\", 'wasn', \"wasn't\", 'weren', \"weren't\", 'won', \"won't\", 'wouldn', \"wouldn't\", 'boba', 'bubble', 'tea']\n"
          ]
        }
      ],
      "source": [
        "# add the stopwords to Stopword list for modeling\n",
        "stop_words = stopwords.words('english')\n",
        "custom = ['boba', 'bubble', 'tea']\n",
        "for i in custom:\n",
        "  stop_words.append(i)\n",
        "print(stop_words)"
      ]
    },
    {
      "cell_type": "code",
      "execution_count": null,
      "metadata": {
        "colab": {
          "base_uri": "https://localhost:8080/"
        },
        "id": "a4RAB7C2Y_2a",
        "outputId": "96b7af6f-4d44-46d4-cfba-1bf9e2b3d281"
      },
      "outputs": [
        {
          "output_type": "stream",
          "name": "stdout",
          "text": [
            "[\"- absolutely one of my favorite ice cream places in the city\\n- recommend: swirl (black tea/oolong tea) w/ large and mini bubbles\\n- black tea is definitely stronger in flavor and almost has a coffee aftertaste\\n- almost always a wait\\n- fresh tapioca batches throughout the day\\n- I heard this place didn't survive the pandemic but I really hope they come back once the dust settles\", \"My experience was really bad. I'm usually a bubble tea fanatic and I thought this place was cute and it looked delicious. I went and ordered a large oolong iced tea with bubbles with a little sweet and with ice cream on top.\\n\\nI saw the pictures and thought by adding matcha ice cream to it would be good. It looked good when they handed it to me, it was ombré colored.\\nBut when I put my straw in it was so gross. It was so bitter. I can handle bitter, but it was like a poor quality tea bitter.\\n\\nAs for the ice cream portion, I figured that it would taste good but it wasn't creamy at all it was icy and weird. Like Brewer's ice cream when it melts and then you freeze it again. Not creamy.\\n\\nFrom experience and hearing from ice cream experts, the quality of the ice cream depends on the milk, cream and eggs. If it starts to melt fast after you take it out and it's creamy in texture and has a rich flavor then it's good quality. It's bad quality if it's really hard, icy (from the cream and milk being poor quality so they aren't blending well), then you know the ice cream is a no-go.\\n\\nMy husband got a large iced matcha green tea. He said his was gross too. I didn't drink mine because it was way too nasty and the girl at the counter didn't want to fix the issue. I ended up throwing my drink in the trash and my husband fought through drinking at least half and three it out as well.\\n\\nI want to give them a second chance, but we know of much better bubble tea shops in our area and we don't want to risk wasting our money again.\"]\n"
          ]
        }
      ],
      "source": [
        "corpus = list(df['reviews']) #comma separated reviews in list\n",
        "print(corpus[:2])"
      ]
    },
    {
      "cell_type": "code",
      "execution_count": null,
      "metadata": {
        "colab": {
          "base_uri": "https://localhost:8080/"
        },
        "id": "2bOZMy78OQRB",
        "outputId": "31ebaee4-adeb-4983-f0d6-85cff881cbc7"
      },
      "outputs": [
        {
          "output_type": "execute_result",
          "data": {
            "text/plain": [
              "5    6810\n",
              "4    3797\n",
              "3    1431\n",
              "2     639\n",
              "1     533\n",
              "Name: rating, dtype: int64"
            ]
          },
          "metadata": {},
          "execution_count": 10
        }
      ],
      "source": [
        "# clean ratings\n",
        "df['rating'] = df['rating'].str.replace(\" star rating\",\"\")\n",
        "df['rating'] = df['rating'].astype(int)\n",
        "df['rating'].value_counts()"
      ]
    },
    {
      "cell_type": "code",
      "execution_count": null,
      "metadata": {
        "colab": {
          "base_uri": "https://localhost:8080/"
        },
        "id": "dM10KRVIQDaQ",
        "outputId": "c41e6d6f-acec-4137-f4ad-348d7fcdd3fe"
      },
      "outputs": [
        {
          "output_type": "stream",
          "name": "stdout",
          "text": [
            "<class 'pandas.core.frame.DataFrame'>\n",
            "Int64Index: 13210 entries, 0 to 13210\n",
            "Data columns (total 13 columns):\n",
            " #   Column        Non-Null Count  Dtype  \n",
            "---  ------        --------------  -----  \n",
            " 0   store         13210 non-null  object \n",
            " 1   date          13210 non-null  object \n",
            " 2   username      13210 non-null  object \n",
            " 3   user_loc      13210 non-null  object \n",
            " 4   rating        13210 non-null  int64  \n",
            " 5   reviews       13210 non-null  object \n",
            " 6   cleaned       13210 non-null  object \n",
            " 7   cleaned_text  13210 non-null  object \n",
            " 8   positive      13210 non-null  float64\n",
            " 9   negative      13210 non-null  float64\n",
            " 10  neutral       13210 non-null  float64\n",
            " 11  compound      13210 non-null  float64\n",
            " 12  sentiment     13210 non-null  object \n",
            "dtypes: float64(4), int64(1), object(8)\n",
            "memory usage: 1.4+ MB\n"
          ]
        }
      ],
      "source": [
        "df.info()"
      ]
    },
    {
      "cell_type": "markdown",
      "metadata": {
        "id": "R7eGLuMfWUVQ"
      },
      "source": [
        "## Splitting Data\n",
        "X = cleaned text \\\n",
        "y = review rating (1-5)\n",
        "\n",
        "I used stratify for train/test split because we need a balanced amount of each rating for each train/test split.\n",
        "\n",
        "After splitting the data, I applied text vectorization and SMOTE.\n",
        "\n",
        "SMOTE (Synthetic Minority Oversampling TEchnique) consists of synthesizing elements for the minority class. It works by randomly picking a point from the minority class and computing the k-nearest neighbors for this point. The synthetic points are added between the chosen point and its neighbors.\n",
        "The `ratio='minority'` will only resample the minority class rating=1. Since we want each rating class to be balanced, we won't apply this."
      ]
    },
    {
      "cell_type": "code",
      "execution_count": null,
      "metadata": {
        "colab": {
          "base_uri": "https://localhost:8080/"
        },
        "id": "MvJKgppBTNEc",
        "outputId": "ce44a133-a3f6-4646-d66c-afb82a82753a"
      },
      "outputs": [
        {
          "output_type": "stream",
          "name": "stdout",
          "text": [
            "Test Holdout Set: (2642,) (2642,)\n",
            "Full Training Set: (10568,) (10568,)\n",
            "\n",
            "Train: (8454,) (8454,)\n",
            "Validation: (2114,) (2114,)\n"
          ]
        }
      ],
      "source": [
        "# Defining the vectorizer to extract features from text\n",
        "vectorizer = TfidfVectorizer(max_features=300, min_df=7, max_df=0.8, stop_words=stop_words)\n",
        "\n",
        "# Creating X, y variables\n",
        "reviews, labels = df['cleaned_text'], df['rating']\n",
        "\n",
        "# create train/validation/test splits\n",
        "X, X_test, y, y_test = train_test_split(reviews, labels, test_size=0.2, stratify=labels, random_state=123)\n",
        "X_train, X_val, y_train, y_val = train_test_split(X, y, test_size=0.2, stratify=y, random_state=123)\n",
        "\n",
        "print('Test Holdout Set:', X_test.shape, y_test.shape)\n",
        "print('Full Training Set:', X.shape, y.shape)\n",
        "print()\n",
        "print('Train:', X_train.shape, y_train.shape)\n",
        "print('Validation:', X_val.shape, y_val.shape)"
      ]
    },
    {
      "cell_type": "code",
      "execution_count": null,
      "metadata": {
        "colab": {
          "base_uri": "https://localhost:8080/"
        },
        "id": "HNhKhvjSb6lt",
        "outputId": "0c3e2b46-e477-41ca-8a8d-b54ea9e94350"
      },
      "outputs": [
        {
          "output_type": "stream",
          "name": "stdout",
          "text": [
            "(8454, 300) (2114, 300)\n",
            "(10568, 300) (2642, 300)\n"
          ]
        }
      ],
      "source": [
        "# apply preprocessing steps\n",
        "X_train_prep = vectorizer.fit_transform(X_train).toarray()\n",
        "X_val_prep = vectorizer.transform(X_val).toarray()\n",
        "print(X_train_prep.shape, X_val_prep.shape)\n",
        "\n",
        "# tfidf on full training set -> cv\n",
        "vectorizer = TfidfVectorizer(max_features=300, min_df=7, max_df=0.8, stop_words=stop_words)\n",
        "X_prep = vectorizer.fit_transform(X).toarray() # used for final prediction for best models\n",
        "X_test_prep = vectorizer.transform(X_test).toarray()\n",
        "print(X_prep.shape, X_test_prep.shape)"
      ]
    },
    {
      "cell_type": "code",
      "execution_count": null,
      "metadata": {
        "colab": {
          "base_uri": "https://localhost:8080/"
        },
        "id": "v4PKjHdZsztG",
        "outputId": "f2c3b929-03e3-4233-9f6a-ae85baa451f2"
      },
      "outputs": [
        {
          "output_type": "stream",
          "name": "stdout",
          "text": [
            "(21790, 300) (21790,)\n",
            "5    4358\n",
            "4    2430\n",
            "3     916\n",
            "2     409\n",
            "1     341\n",
            "Name: rating, dtype: int64\n",
            "5    4358\n",
            "1    4358\n",
            "4    4358\n",
            "3    4358\n",
            "2    4358\n",
            "Name: rating, dtype: int64\n"
          ]
        }
      ],
      "source": [
        "# apply smote sampling technique to remove class imbalance\n",
        "smote = SMOTE(random_state=12)\n",
        "X_train_sm, y_train_sm = smote.fit_resample(X_train_prep, y_train)\n",
        "print(X_train_sm.shape, y_train_sm.shape)\n",
        "print(y_train.value_counts())\n",
        "print(y_train_sm.value_counts())"
      ]
    },
    {
      "cell_type": "markdown",
      "metadata": {
        "id": "715ibRkYDk3u"
      },
      "source": [
        "## Evaluating Models Baseline Performance\n",
        "I'll run a few classifiers without fine-tuning to evaluate baseline performance using cross-validation. This performs train/test splits on the dataset k times and returns the average scores for evaluation. A good metric for imbalanced multiclassification is Matthew's Correlation Coefficient. MCC represents the values in a confusion matrix as a single score in the range of -1 and 1, where 1 is a perfect classifier, 0 is no better than random guessing, and -1 is the opposite of the true value.\n",
        "\n",
        "Another great metric for evaluating imbalanced classes is the F1-score. With an imbalanced dataset, the Macro-average F1-Score will reflect the true model performance by treating each class equally regardless of the number of samples it has. The Macro-avereage F1-score is computed by calculating the F1-Score for each class and then average all the results.\n",
        "\n",
        "Evaluating baseline performance will help me select which models to further fine-tune. "
      ]
    },
    {
      "cell_type": "code",
      "execution_count": null,
      "metadata": {
        "id": "N8XUs3bEZneo"
      },
      "outputs": [],
      "source": [
        "from sklearn.model_selection import cross_val_score\n",
        "from sklearn.metrics import make_scorer\n",
        "models = [\n",
        "    SGDClassifier(random_state=12), \n",
        "    LogisticRegression(random_state=12, max_iter=1000),\n",
        "    MultinomialNB(),\n",
        "    LinearSVC(random_state=12),\n",
        "    RandomForestClassifier(random_state=12),\n",
        "    LGBMClassifier(objective='multiclass', random_state=12),\n",
        "    XGBClassifier(random_state=12)\n",
        "]"
      ]
    },
    {
      "cell_type": "code",
      "execution_count": null,
      "metadata": {
        "id": "OHay937xPgLc"
      },
      "outputs": [],
      "source": [
        "def run_cv_models(model_list, X, y, kfold=5):\n",
        "  \"\"\"\n",
        "  Inputs: list of models and kfold\n",
        "  Outputs: cross-validation df and summary df\n",
        "  \"\"\"\n",
        "  results = []\n",
        "  for model in model_list:\n",
        "    clf = make_pipeline(SMOTE(random_state=12), model)\n",
        "    model_name = model.__class__.__name__\n",
        "    mcc = cross_val_score(clf, X, y, scoring=make_scorer(matthews_corrcoef), cv=kfold)\n",
        "    f1 = cross_val_score(clf, X, y, scoring='f1_macro', cv=kfold)\n",
        "\n",
        "    for k_fold, (mcc, f1) in enumerate(zip(mcc, f1)):\n",
        "      results.append((model_name, k_fold, mcc, f1))\n",
        "\n",
        "  cv_df = pd.DataFrame(results, columns=['model_name', 'k_fold', 'mcc', 'f1'])\n",
        "  # summary table\n",
        "  mean_mcc = cv_df.groupby('model_name').mcc.mean()\n",
        "  std_mcc = cv_df.groupby('model_name').mcc.std()\n",
        "  mean_f1 = cv_df.groupby('model_name').f1.mean()\n",
        "  std_f1 = cv_df.groupby('model_name').f1.std()\n",
        "\n",
        "  metrics_df = pd.concat([mean_mcc, std_mcc, mean_f1, std_f1], axis= 1, ignore_index=True)\n",
        "  metrics_df.columns = ['mean_mcc', 'std_mcc', 'mean_f1', 'std_f1']\n",
        "  return cv_df, metrics_df"
      ]
    },
    {
      "cell_type": "code",
      "execution_count": null,
      "metadata": {
        "id": "vDwd4XuCTy4c"
      },
      "outputs": [],
      "source": [
        "cv_df, summary_df = run_cv_models(models, X_prep, y)"
      ]
    },
    {
      "cell_type": "code",
      "execution_count": null,
      "metadata": {
        "colab": {
          "base_uri": "https://localhost:8080/",
          "height": 1000
        },
        "id": "eFAnYA30p6As",
        "outputId": "74e637d8-eab8-41ab-fb31-cdbbfcf3645d"
      },
      "outputs": [
        {
          "output_type": "execute_result",
          "data": {
            "text/plain": [
              "                model_name  k_fold       mcc        f1\n",
              "0            SGDClassifier       0  0.282948  0.360934\n",
              "1            SGDClassifier       1  0.292505  0.373661\n",
              "2            SGDClassifier       2  0.280750  0.369131\n",
              "3            SGDClassifier       3  0.270089  0.363020\n",
              "4            SGDClassifier       4  0.281438  0.364703\n",
              "5       LogisticRegression       0  0.303692  0.402552\n",
              "6       LogisticRegression       1  0.291933  0.409736\n",
              "7       LogisticRegression       2  0.303641  0.423564\n",
              "8       LogisticRegression       3  0.291274  0.417513\n",
              "9       LogisticRegression       4  0.291767  0.404479\n",
              "10           MultinomialNB       0  0.267626  0.378403\n",
              "11           MultinomialNB       1  0.296462  0.402995\n",
              "12           MultinomialNB       2  0.300291  0.413204\n",
              "13           MultinomialNB       3  0.289633  0.407709\n",
              "14           MultinomialNB       4  0.312868  0.422917\n",
              "15               LinearSVC       0  0.286311  0.379841\n",
              "16               LinearSVC       1  0.309210  0.415098\n",
              "17               LinearSVC       2  0.298360  0.408856\n",
              "18               LinearSVC       3  0.292145  0.396513\n",
              "19               LinearSVC       4  0.288314  0.392411\n",
              "20  RandomForestClassifier       0  0.255632  0.376926\n",
              "21  RandomForestClassifier       1  0.261099  0.365076\n",
              "22  RandomForestClassifier       2  0.289958  0.406240\n",
              "23  RandomForestClassifier       3  0.230160  0.377246\n",
              "24  RandomForestClassifier       4  0.266733  0.396438\n",
              "25          LGBMClassifier       0  0.289278  0.394522\n",
              "26          LGBMClassifier       1  0.297555  0.415183\n",
              "27          LGBMClassifier       2  0.299075  0.420655\n",
              "28          LGBMClassifier       3  0.287003  0.407482\n",
              "29          LGBMClassifier       4  0.302065  0.427241\n",
              "30           XGBClassifier       0  0.279602  0.387152\n",
              "31           XGBClassifier       1  0.255005  0.368280\n",
              "32           XGBClassifier       2  0.266137  0.388627\n",
              "33           XGBClassifier       3  0.234028  0.365239\n",
              "34           XGBClassifier       4  0.264496  0.378905"
            ],
            "text/html": [
              "\n",
              "  <div id=\"df-23948589-e7f1-4e71-b860-6161f5cb280f\">\n",
              "    <div class=\"colab-df-container\">\n",
              "      <div>\n",
              "<style scoped>\n",
              "    .dataframe tbody tr th:only-of-type {\n",
              "        vertical-align: middle;\n",
              "    }\n",
              "\n",
              "    .dataframe tbody tr th {\n",
              "        vertical-align: top;\n",
              "    }\n",
              "\n",
              "    .dataframe thead th {\n",
              "        text-align: right;\n",
              "    }\n",
              "</style>\n",
              "<table border=\"1\" class=\"dataframe\">\n",
              "  <thead>\n",
              "    <tr style=\"text-align: right;\">\n",
              "      <th></th>\n",
              "      <th>model_name</th>\n",
              "      <th>k_fold</th>\n",
              "      <th>mcc</th>\n",
              "      <th>f1</th>\n",
              "    </tr>\n",
              "  </thead>\n",
              "  <tbody>\n",
              "    <tr>\n",
              "      <th>0</th>\n",
              "      <td>SGDClassifier</td>\n",
              "      <td>0</td>\n",
              "      <td>0.282948</td>\n",
              "      <td>0.360934</td>\n",
              "    </tr>\n",
              "    <tr>\n",
              "      <th>1</th>\n",
              "      <td>SGDClassifier</td>\n",
              "      <td>1</td>\n",
              "      <td>0.292505</td>\n",
              "      <td>0.373661</td>\n",
              "    </tr>\n",
              "    <tr>\n",
              "      <th>2</th>\n",
              "      <td>SGDClassifier</td>\n",
              "      <td>2</td>\n",
              "      <td>0.280750</td>\n",
              "      <td>0.369131</td>\n",
              "    </tr>\n",
              "    <tr>\n",
              "      <th>3</th>\n",
              "      <td>SGDClassifier</td>\n",
              "      <td>3</td>\n",
              "      <td>0.270089</td>\n",
              "      <td>0.363020</td>\n",
              "    </tr>\n",
              "    <tr>\n",
              "      <th>4</th>\n",
              "      <td>SGDClassifier</td>\n",
              "      <td>4</td>\n",
              "      <td>0.281438</td>\n",
              "      <td>0.364703</td>\n",
              "    </tr>\n",
              "    <tr>\n",
              "      <th>5</th>\n",
              "      <td>LogisticRegression</td>\n",
              "      <td>0</td>\n",
              "      <td>0.303692</td>\n",
              "      <td>0.402552</td>\n",
              "    </tr>\n",
              "    <tr>\n",
              "      <th>6</th>\n",
              "      <td>LogisticRegression</td>\n",
              "      <td>1</td>\n",
              "      <td>0.291933</td>\n",
              "      <td>0.409736</td>\n",
              "    </tr>\n",
              "    <tr>\n",
              "      <th>7</th>\n",
              "      <td>LogisticRegression</td>\n",
              "      <td>2</td>\n",
              "      <td>0.303641</td>\n",
              "      <td>0.423564</td>\n",
              "    </tr>\n",
              "    <tr>\n",
              "      <th>8</th>\n",
              "      <td>LogisticRegression</td>\n",
              "      <td>3</td>\n",
              "      <td>0.291274</td>\n",
              "      <td>0.417513</td>\n",
              "    </tr>\n",
              "    <tr>\n",
              "      <th>9</th>\n",
              "      <td>LogisticRegression</td>\n",
              "      <td>4</td>\n",
              "      <td>0.291767</td>\n",
              "      <td>0.404479</td>\n",
              "    </tr>\n",
              "    <tr>\n",
              "      <th>10</th>\n",
              "      <td>MultinomialNB</td>\n",
              "      <td>0</td>\n",
              "      <td>0.267626</td>\n",
              "      <td>0.378403</td>\n",
              "    </tr>\n",
              "    <tr>\n",
              "      <th>11</th>\n",
              "      <td>MultinomialNB</td>\n",
              "      <td>1</td>\n",
              "      <td>0.296462</td>\n",
              "      <td>0.402995</td>\n",
              "    </tr>\n",
              "    <tr>\n",
              "      <th>12</th>\n",
              "      <td>MultinomialNB</td>\n",
              "      <td>2</td>\n",
              "      <td>0.300291</td>\n",
              "      <td>0.413204</td>\n",
              "    </tr>\n",
              "    <tr>\n",
              "      <th>13</th>\n",
              "      <td>MultinomialNB</td>\n",
              "      <td>3</td>\n",
              "      <td>0.289633</td>\n",
              "      <td>0.407709</td>\n",
              "    </tr>\n",
              "    <tr>\n",
              "      <th>14</th>\n",
              "      <td>MultinomialNB</td>\n",
              "      <td>4</td>\n",
              "      <td>0.312868</td>\n",
              "      <td>0.422917</td>\n",
              "    </tr>\n",
              "    <tr>\n",
              "      <th>15</th>\n",
              "      <td>LinearSVC</td>\n",
              "      <td>0</td>\n",
              "      <td>0.286311</td>\n",
              "      <td>0.379841</td>\n",
              "    </tr>\n",
              "    <tr>\n",
              "      <th>16</th>\n",
              "      <td>LinearSVC</td>\n",
              "      <td>1</td>\n",
              "      <td>0.309210</td>\n",
              "      <td>0.415098</td>\n",
              "    </tr>\n",
              "    <tr>\n",
              "      <th>17</th>\n",
              "      <td>LinearSVC</td>\n",
              "      <td>2</td>\n",
              "      <td>0.298360</td>\n",
              "      <td>0.408856</td>\n",
              "    </tr>\n",
              "    <tr>\n",
              "      <th>18</th>\n",
              "      <td>LinearSVC</td>\n",
              "      <td>3</td>\n",
              "      <td>0.292145</td>\n",
              "      <td>0.396513</td>\n",
              "    </tr>\n",
              "    <tr>\n",
              "      <th>19</th>\n",
              "      <td>LinearSVC</td>\n",
              "      <td>4</td>\n",
              "      <td>0.288314</td>\n",
              "      <td>0.392411</td>\n",
              "    </tr>\n",
              "    <tr>\n",
              "      <th>20</th>\n",
              "      <td>RandomForestClassifier</td>\n",
              "      <td>0</td>\n",
              "      <td>0.255632</td>\n",
              "      <td>0.376926</td>\n",
              "    </tr>\n",
              "    <tr>\n",
              "      <th>21</th>\n",
              "      <td>RandomForestClassifier</td>\n",
              "      <td>1</td>\n",
              "      <td>0.261099</td>\n",
              "      <td>0.365076</td>\n",
              "    </tr>\n",
              "    <tr>\n",
              "      <th>22</th>\n",
              "      <td>RandomForestClassifier</td>\n",
              "      <td>2</td>\n",
              "      <td>0.289958</td>\n",
              "      <td>0.406240</td>\n",
              "    </tr>\n",
              "    <tr>\n",
              "      <th>23</th>\n",
              "      <td>RandomForestClassifier</td>\n",
              "      <td>3</td>\n",
              "      <td>0.230160</td>\n",
              "      <td>0.377246</td>\n",
              "    </tr>\n",
              "    <tr>\n",
              "      <th>24</th>\n",
              "      <td>RandomForestClassifier</td>\n",
              "      <td>4</td>\n",
              "      <td>0.266733</td>\n",
              "      <td>0.396438</td>\n",
              "    </tr>\n",
              "    <tr>\n",
              "      <th>25</th>\n",
              "      <td>LGBMClassifier</td>\n",
              "      <td>0</td>\n",
              "      <td>0.289278</td>\n",
              "      <td>0.394522</td>\n",
              "    </tr>\n",
              "    <tr>\n",
              "      <th>26</th>\n",
              "      <td>LGBMClassifier</td>\n",
              "      <td>1</td>\n",
              "      <td>0.297555</td>\n",
              "      <td>0.415183</td>\n",
              "    </tr>\n",
              "    <tr>\n",
              "      <th>27</th>\n",
              "      <td>LGBMClassifier</td>\n",
              "      <td>2</td>\n",
              "      <td>0.299075</td>\n",
              "      <td>0.420655</td>\n",
              "    </tr>\n",
              "    <tr>\n",
              "      <th>28</th>\n",
              "      <td>LGBMClassifier</td>\n",
              "      <td>3</td>\n",
              "      <td>0.287003</td>\n",
              "      <td>0.407482</td>\n",
              "    </tr>\n",
              "    <tr>\n",
              "      <th>29</th>\n",
              "      <td>LGBMClassifier</td>\n",
              "      <td>4</td>\n",
              "      <td>0.302065</td>\n",
              "      <td>0.427241</td>\n",
              "    </tr>\n",
              "    <tr>\n",
              "      <th>30</th>\n",
              "      <td>XGBClassifier</td>\n",
              "      <td>0</td>\n",
              "      <td>0.279602</td>\n",
              "      <td>0.387152</td>\n",
              "    </tr>\n",
              "    <tr>\n",
              "      <th>31</th>\n",
              "      <td>XGBClassifier</td>\n",
              "      <td>1</td>\n",
              "      <td>0.255005</td>\n",
              "      <td>0.368280</td>\n",
              "    </tr>\n",
              "    <tr>\n",
              "      <th>32</th>\n",
              "      <td>XGBClassifier</td>\n",
              "      <td>2</td>\n",
              "      <td>0.266137</td>\n",
              "      <td>0.388627</td>\n",
              "    </tr>\n",
              "    <tr>\n",
              "      <th>33</th>\n",
              "      <td>XGBClassifier</td>\n",
              "      <td>3</td>\n",
              "      <td>0.234028</td>\n",
              "      <td>0.365239</td>\n",
              "    </tr>\n",
              "    <tr>\n",
              "      <th>34</th>\n",
              "      <td>XGBClassifier</td>\n",
              "      <td>4</td>\n",
              "      <td>0.264496</td>\n",
              "      <td>0.378905</td>\n",
              "    </tr>\n",
              "  </tbody>\n",
              "</table>\n",
              "</div>\n",
              "      <button class=\"colab-df-convert\" onclick=\"convertToInteractive('df-23948589-e7f1-4e71-b860-6161f5cb280f')\"\n",
              "              title=\"Convert this dataframe to an interactive table.\"\n",
              "              style=\"display:none;\">\n",
              "        \n",
              "  <svg xmlns=\"http://www.w3.org/2000/svg\" height=\"24px\"viewBox=\"0 0 24 24\"\n",
              "       width=\"24px\">\n",
              "    <path d=\"M0 0h24v24H0V0z\" fill=\"none\"/>\n",
              "    <path d=\"M18.56 5.44l.94 2.06.94-2.06 2.06-.94-2.06-.94-.94-2.06-.94 2.06-2.06.94zm-11 1L8.5 8.5l.94-2.06 2.06-.94-2.06-.94L8.5 2.5l-.94 2.06-2.06.94zm10 10l.94 2.06.94-2.06 2.06-.94-2.06-.94-.94-2.06-.94 2.06-2.06.94z\"/><path d=\"M17.41 7.96l-1.37-1.37c-.4-.4-.92-.59-1.43-.59-.52 0-1.04.2-1.43.59L10.3 9.45l-7.72 7.72c-.78.78-.78 2.05 0 2.83L4 21.41c.39.39.9.59 1.41.59.51 0 1.02-.2 1.41-.59l7.78-7.78 2.81-2.81c.8-.78.8-2.07 0-2.86zM5.41 20L4 18.59l7.72-7.72 1.47 1.35L5.41 20z\"/>\n",
              "  </svg>\n",
              "      </button>\n",
              "      \n",
              "  <style>\n",
              "    .colab-df-container {\n",
              "      display:flex;\n",
              "      flex-wrap:wrap;\n",
              "      gap: 12px;\n",
              "    }\n",
              "\n",
              "    .colab-df-convert {\n",
              "      background-color: #E8F0FE;\n",
              "      border: none;\n",
              "      border-radius: 50%;\n",
              "      cursor: pointer;\n",
              "      display: none;\n",
              "      fill: #1967D2;\n",
              "      height: 32px;\n",
              "      padding: 0 0 0 0;\n",
              "      width: 32px;\n",
              "    }\n",
              "\n",
              "    .colab-df-convert:hover {\n",
              "      background-color: #E2EBFA;\n",
              "      box-shadow: 0px 1px 2px rgba(60, 64, 67, 0.3), 0px 1px 3px 1px rgba(60, 64, 67, 0.15);\n",
              "      fill: #174EA6;\n",
              "    }\n",
              "\n",
              "    [theme=dark] .colab-df-convert {\n",
              "      background-color: #3B4455;\n",
              "      fill: #D2E3FC;\n",
              "    }\n",
              "\n",
              "    [theme=dark] .colab-df-convert:hover {\n",
              "      background-color: #434B5C;\n",
              "      box-shadow: 0px 1px 3px 1px rgba(0, 0, 0, 0.15);\n",
              "      filter: drop-shadow(0px 1px 2px rgba(0, 0, 0, 0.3));\n",
              "      fill: #FFFFFF;\n",
              "    }\n",
              "  </style>\n",
              "\n",
              "      <script>\n",
              "        const buttonEl =\n",
              "          document.querySelector('#df-23948589-e7f1-4e71-b860-6161f5cb280f button.colab-df-convert');\n",
              "        buttonEl.style.display =\n",
              "          google.colab.kernel.accessAllowed ? 'block' : 'none';\n",
              "\n",
              "        async function convertToInteractive(key) {\n",
              "          const element = document.querySelector('#df-23948589-e7f1-4e71-b860-6161f5cb280f');\n",
              "          const dataTable =\n",
              "            await google.colab.kernel.invokeFunction('convertToInteractive',\n",
              "                                                     [key], {});\n",
              "          if (!dataTable) return;\n",
              "\n",
              "          const docLinkHtml = 'Like what you see? Visit the ' +\n",
              "            '<a target=\"_blank\" href=https://colab.research.google.com/notebooks/data_table.ipynb>data table notebook</a>'\n",
              "            + ' to learn more about interactive tables.';\n",
              "          element.innerHTML = '';\n",
              "          dataTable['output_type'] = 'display_data';\n",
              "          await google.colab.output.renderOutput(dataTable, element);\n",
              "          const docLink = document.createElement('div');\n",
              "          docLink.innerHTML = docLinkHtml;\n",
              "          element.appendChild(docLink);\n",
              "        }\n",
              "      </script>\n",
              "    </div>\n",
              "  </div>\n",
              "  "
            ]
          },
          "metadata": {},
          "execution_count": 18
        }
      ],
      "source": [
        "cv_df"
      ]
    },
    {
      "cell_type": "code",
      "execution_count": null,
      "metadata": {
        "colab": {
          "base_uri": "https://localhost:8080/",
          "height": 300
        },
        "id": "Il-q4TOmzloH",
        "outputId": "752092eb-160a-4afc-f657-c5b48ecee275"
      },
      "outputs": [
        {
          "output_type": "execute_result",
          "data": {
            "text/plain": [
              "                        mean_mcc   std_mcc   mean_f1    std_f1\n",
              "model_name                                                    \n",
              "LGBMClassifier          0.294995  0.006514  0.413016  0.012630\n",
              "LinearSVC               0.294868  0.009239  0.398544  0.013892\n",
              "LogisticRegression      0.296462  0.006582  0.411569  0.008862\n",
              "MultinomialNB           0.293376  0.016691  0.405046  0.016636\n",
              "RandomForestClassifier  0.260717  0.021511  0.384385  0.016601\n",
              "SGDClassifier           0.281546  0.007969  0.366290  0.005106\n",
              "XGBClassifier           0.259853  0.016893  0.377640  0.010656"
            ],
            "text/html": [
              "\n",
              "  <div id=\"df-0aabfa25-21cb-42f0-b9ff-53012391eac8\">\n",
              "    <div class=\"colab-df-container\">\n",
              "      <div>\n",
              "<style scoped>\n",
              "    .dataframe tbody tr th:only-of-type {\n",
              "        vertical-align: middle;\n",
              "    }\n",
              "\n",
              "    .dataframe tbody tr th {\n",
              "        vertical-align: top;\n",
              "    }\n",
              "\n",
              "    .dataframe thead th {\n",
              "        text-align: right;\n",
              "    }\n",
              "</style>\n",
              "<table border=\"1\" class=\"dataframe\">\n",
              "  <thead>\n",
              "    <tr style=\"text-align: right;\">\n",
              "      <th></th>\n",
              "      <th>mean_mcc</th>\n",
              "      <th>std_mcc</th>\n",
              "      <th>mean_f1</th>\n",
              "      <th>std_f1</th>\n",
              "    </tr>\n",
              "    <tr>\n",
              "      <th>model_name</th>\n",
              "      <th></th>\n",
              "      <th></th>\n",
              "      <th></th>\n",
              "      <th></th>\n",
              "    </tr>\n",
              "  </thead>\n",
              "  <tbody>\n",
              "    <tr>\n",
              "      <th>LGBMClassifier</th>\n",
              "      <td>0.294995</td>\n",
              "      <td>0.006514</td>\n",
              "      <td>0.413016</td>\n",
              "      <td>0.012630</td>\n",
              "    </tr>\n",
              "    <tr>\n",
              "      <th>LinearSVC</th>\n",
              "      <td>0.294868</td>\n",
              "      <td>0.009239</td>\n",
              "      <td>0.398544</td>\n",
              "      <td>0.013892</td>\n",
              "    </tr>\n",
              "    <tr>\n",
              "      <th>LogisticRegression</th>\n",
              "      <td>0.296462</td>\n",
              "      <td>0.006582</td>\n",
              "      <td>0.411569</td>\n",
              "      <td>0.008862</td>\n",
              "    </tr>\n",
              "    <tr>\n",
              "      <th>MultinomialNB</th>\n",
              "      <td>0.293376</td>\n",
              "      <td>0.016691</td>\n",
              "      <td>0.405046</td>\n",
              "      <td>0.016636</td>\n",
              "    </tr>\n",
              "    <tr>\n",
              "      <th>RandomForestClassifier</th>\n",
              "      <td>0.260717</td>\n",
              "      <td>0.021511</td>\n",
              "      <td>0.384385</td>\n",
              "      <td>0.016601</td>\n",
              "    </tr>\n",
              "    <tr>\n",
              "      <th>SGDClassifier</th>\n",
              "      <td>0.281546</td>\n",
              "      <td>0.007969</td>\n",
              "      <td>0.366290</td>\n",
              "      <td>0.005106</td>\n",
              "    </tr>\n",
              "    <tr>\n",
              "      <th>XGBClassifier</th>\n",
              "      <td>0.259853</td>\n",
              "      <td>0.016893</td>\n",
              "      <td>0.377640</td>\n",
              "      <td>0.010656</td>\n",
              "    </tr>\n",
              "  </tbody>\n",
              "</table>\n",
              "</div>\n",
              "      <button class=\"colab-df-convert\" onclick=\"convertToInteractive('df-0aabfa25-21cb-42f0-b9ff-53012391eac8')\"\n",
              "              title=\"Convert this dataframe to an interactive table.\"\n",
              "              style=\"display:none;\">\n",
              "        \n",
              "  <svg xmlns=\"http://www.w3.org/2000/svg\" height=\"24px\"viewBox=\"0 0 24 24\"\n",
              "       width=\"24px\">\n",
              "    <path d=\"M0 0h24v24H0V0z\" fill=\"none\"/>\n",
              "    <path d=\"M18.56 5.44l.94 2.06.94-2.06 2.06-.94-2.06-.94-.94-2.06-.94 2.06-2.06.94zm-11 1L8.5 8.5l.94-2.06 2.06-.94-2.06-.94L8.5 2.5l-.94 2.06-2.06.94zm10 10l.94 2.06.94-2.06 2.06-.94-2.06-.94-.94-2.06-.94 2.06-2.06.94z\"/><path d=\"M17.41 7.96l-1.37-1.37c-.4-.4-.92-.59-1.43-.59-.52 0-1.04.2-1.43.59L10.3 9.45l-7.72 7.72c-.78.78-.78 2.05 0 2.83L4 21.41c.39.39.9.59 1.41.59.51 0 1.02-.2 1.41-.59l7.78-7.78 2.81-2.81c.8-.78.8-2.07 0-2.86zM5.41 20L4 18.59l7.72-7.72 1.47 1.35L5.41 20z\"/>\n",
              "  </svg>\n",
              "      </button>\n",
              "      \n",
              "  <style>\n",
              "    .colab-df-container {\n",
              "      display:flex;\n",
              "      flex-wrap:wrap;\n",
              "      gap: 12px;\n",
              "    }\n",
              "\n",
              "    .colab-df-convert {\n",
              "      background-color: #E8F0FE;\n",
              "      border: none;\n",
              "      border-radius: 50%;\n",
              "      cursor: pointer;\n",
              "      display: none;\n",
              "      fill: #1967D2;\n",
              "      height: 32px;\n",
              "      padding: 0 0 0 0;\n",
              "      width: 32px;\n",
              "    }\n",
              "\n",
              "    .colab-df-convert:hover {\n",
              "      background-color: #E2EBFA;\n",
              "      box-shadow: 0px 1px 2px rgba(60, 64, 67, 0.3), 0px 1px 3px 1px rgba(60, 64, 67, 0.15);\n",
              "      fill: #174EA6;\n",
              "    }\n",
              "\n",
              "    [theme=dark] .colab-df-convert {\n",
              "      background-color: #3B4455;\n",
              "      fill: #D2E3FC;\n",
              "    }\n",
              "\n",
              "    [theme=dark] .colab-df-convert:hover {\n",
              "      background-color: #434B5C;\n",
              "      box-shadow: 0px 1px 3px 1px rgba(0, 0, 0, 0.15);\n",
              "      filter: drop-shadow(0px 1px 2px rgba(0, 0, 0, 0.3));\n",
              "      fill: #FFFFFF;\n",
              "    }\n",
              "  </style>\n",
              "\n",
              "      <script>\n",
              "        const buttonEl =\n",
              "          document.querySelector('#df-0aabfa25-21cb-42f0-b9ff-53012391eac8 button.colab-df-convert');\n",
              "        buttonEl.style.display =\n",
              "          google.colab.kernel.accessAllowed ? 'block' : 'none';\n",
              "\n",
              "        async function convertToInteractive(key) {\n",
              "          const element = document.querySelector('#df-0aabfa25-21cb-42f0-b9ff-53012391eac8');\n",
              "          const dataTable =\n",
              "            await google.colab.kernel.invokeFunction('convertToInteractive',\n",
              "                                                     [key], {});\n",
              "          if (!dataTable) return;\n",
              "\n",
              "          const docLinkHtml = 'Like what you see? Visit the ' +\n",
              "            '<a target=\"_blank\" href=https://colab.research.google.com/notebooks/data_table.ipynb>data table notebook</a>'\n",
              "            + ' to learn more about interactive tables.';\n",
              "          element.innerHTML = '';\n",
              "          dataTable['output_type'] = 'display_data';\n",
              "          await google.colab.output.renderOutput(dataTable, element);\n",
              "          const docLink = document.createElement('div');\n",
              "          docLink.innerHTML = docLinkHtml;\n",
              "          element.appendChild(docLink);\n",
              "        }\n",
              "      </script>\n",
              "    </div>\n",
              "  </div>\n",
              "  "
            ]
          },
          "metadata": {},
          "execution_count": 19
        }
      ],
      "source": [
        "summary_df"
      ]
    },
    {
      "cell_type": "code",
      "execution_count": null,
      "metadata": {
        "colab": {
          "base_uri": "https://localhost:8080/",
          "height": 1000
        },
        "id": "6fgXA3exhuLf",
        "outputId": "f097a1a2-c227-4fe0-fee6-95c851e1a150"
      },
      "outputs": [
        {
          "output_type": "display_data",
          "data": {
            "text/html": [
              "<html>\n",
              "<head><meta charset=\"utf-8\" /></head>\n",
              "<body>\n",
              "    <div>            <script src=\"https://cdnjs.cloudflare.com/ajax/libs/mathjax/2.7.5/MathJax.js?config=TeX-AMS-MML_SVG\"></script><script type=\"text/javascript\">if (window.MathJax) {MathJax.Hub.Config({SVG: {font: \"STIX-Web\"}});}</script>                <script type=\"text/javascript\">window.PlotlyConfig = {MathJaxConfig: 'local'};</script>\n",
              "        <script src=\"https://cdn.plot.ly/plotly-2.8.3.min.js\"></script>                <div id=\"fbd0e703-be1b-4992-a01f-840d82e718a8\" class=\"plotly-graph-div\" style=\"height:525px; width:100%;\"></div>            <script type=\"text/javascript\">                                    window.PLOTLYENV=window.PLOTLYENV || {};                                    if (document.getElementById(\"fbd0e703-be1b-4992-a01f-840d82e718a8\")) {                    Plotly.newPlot(                        \"fbd0e703-be1b-4992-a01f-840d82e718a8\",                        [{\"alignmentgroup\":\"True\",\"hovertemplate\":\"model_name=SGDClassifier<br>variable=%{x}<br>value=%{y}<extra></extra>\",\"legendgroup\":\"SGDClassifier\",\"marker\":{\"color\":\"#636efa\"},\"name\":\"SGDClassifier\",\"notched\":false,\"offsetgroup\":\"SGDClassifier\",\"orientation\":\"v\",\"showlegend\":true,\"x\":[\"mcc\",\"mcc\",\"mcc\",\"mcc\",\"mcc\"],\"x0\":\" \",\"xaxis\":\"x\",\"y\":[0.28294819700317486,0.2925054522614419,0.28074998724723055,0.270088667284026,0.28143845745263824],\"y0\":\" \",\"yaxis\":\"y\",\"type\":\"box\"},{\"alignmentgroup\":\"True\",\"hovertemplate\":\"model_name=LogisticRegression<br>variable=%{x}<br>value=%{y}<extra></extra>\",\"legendgroup\":\"LogisticRegression\",\"marker\":{\"color\":\"#EF553B\"},\"name\":\"LogisticRegression\",\"notched\":false,\"offsetgroup\":\"LogisticRegression\",\"orientation\":\"v\",\"showlegend\":true,\"x\":[\"mcc\",\"mcc\",\"mcc\",\"mcc\",\"mcc\"],\"x0\":\" \",\"xaxis\":\"x2\",\"y\":[0.30369230967943295,0.29193344909771585,0.30364125118534135,0.2912739009782915,0.291766655870959],\"y0\":\" \",\"yaxis\":\"y2\",\"type\":\"box\"},{\"alignmentgroup\":\"True\",\"hovertemplate\":\"model_name=MultinomialNB<br>variable=%{x}<br>value=%{y}<extra></extra>\",\"legendgroup\":\"MultinomialNB\",\"marker\":{\"color\":\"#00cc96\"},\"name\":\"MultinomialNB\",\"notched\":false,\"offsetgroup\":\"MultinomialNB\",\"orientation\":\"v\",\"showlegend\":true,\"x\":[\"mcc\",\"mcc\",\"mcc\",\"mcc\",\"mcc\"],\"x0\":\" \",\"xaxis\":\"x3\",\"y\":[0.26762568759838634,0.29646225335956267,0.30029106389944255,0.2896331624868205,0.31286845496743443],\"y0\":\" \",\"yaxis\":\"y3\",\"type\":\"box\"},{\"alignmentgroup\":\"True\",\"hovertemplate\":\"model_name=LinearSVC<br>variable=%{x}<br>value=%{y}<extra></extra>\",\"legendgroup\":\"LinearSVC\",\"marker\":{\"color\":\"#ab63fa\"},\"name\":\"LinearSVC\",\"notched\":false,\"offsetgroup\":\"LinearSVC\",\"orientation\":\"v\",\"showlegend\":true,\"x\":[\"mcc\",\"mcc\",\"mcc\",\"mcc\",\"mcc\"],\"x0\":\" \",\"xaxis\":\"x4\",\"y\":[0.28631070663829533,0.3092097776208506,0.29835990999496353,0.2921453199801029,0.2883141864288057],\"y0\":\" \",\"yaxis\":\"y4\",\"type\":\"box\"},{\"alignmentgroup\":\"True\",\"hovertemplate\":\"model_name=RandomForestClassifier<br>variable=%{x}<br>value=%{y}<extra></extra>\",\"legendgroup\":\"RandomForestClassifier\",\"marker\":{\"color\":\"#FFA15A\"},\"name\":\"RandomForestClassifier\",\"notched\":false,\"offsetgroup\":\"RandomForestClassifier\",\"orientation\":\"v\",\"showlegend\":true,\"x\":[\"mcc\",\"mcc\",\"mcc\",\"mcc\",\"mcc\"],\"x0\":\" \",\"xaxis\":\"x5\",\"y\":[0.2556324364244016,0.26109856525980785,0.28995821257662086,0.23016049580528952,0.2667331739402981],\"y0\":\" \",\"yaxis\":\"y5\",\"type\":\"box\"},{\"alignmentgroup\":\"True\",\"hovertemplate\":\"model_name=LGBMClassifier<br>variable=%{x}<br>value=%{y}<extra></extra>\",\"legendgroup\":\"LGBMClassifier\",\"marker\":{\"color\":\"#19d3f3\"},\"name\":\"LGBMClassifier\",\"notched\":false,\"offsetgroup\":\"LGBMClassifier\",\"orientation\":\"v\",\"showlegend\":true,\"x\":[\"mcc\",\"mcc\",\"mcc\",\"mcc\",\"mcc\"],\"x0\":\" \",\"xaxis\":\"x6\",\"y\":[0.2892782559195537,0.2975546868583996,0.2990749259692971,0.28700319187741763,0.30206456500963963],\"y0\":\" \",\"yaxis\":\"y6\",\"type\":\"box\"},{\"alignmentgroup\":\"True\",\"hovertemplate\":\"model_name=XGBClassifier<br>variable=%{x}<br>value=%{y}<extra></extra>\",\"legendgroup\":\"XGBClassifier\",\"marker\":{\"color\":\"#FF6692\"},\"name\":\"XGBClassifier\",\"notched\":false,\"offsetgroup\":\"XGBClassifier\",\"orientation\":\"v\",\"showlegend\":true,\"x\":[\"mcc\",\"mcc\",\"mcc\",\"mcc\",\"mcc\"],\"x0\":\" \",\"xaxis\":\"x7\",\"y\":[0.27960184961550777,0.25500476034746433,0.26613698343096087,0.2340276677582908,0.2644961344143507],\"y0\":\" \",\"yaxis\":\"y7\",\"type\":\"box\"}],                        {\"template\":{\"data\":{\"bar\":[{\"error_x\":{\"color\":\"#2a3f5f\"},\"error_y\":{\"color\":\"#2a3f5f\"},\"marker\":{\"line\":{\"color\":\"#E5ECF6\",\"width\":0.5},\"pattern\":{\"fillmode\":\"overlay\",\"size\":10,\"solidity\":0.2}},\"type\":\"bar\"}],\"barpolar\":[{\"marker\":{\"line\":{\"color\":\"#E5ECF6\",\"width\":0.5},\"pattern\":{\"fillmode\":\"overlay\",\"size\":10,\"solidity\":0.2}},\"type\":\"barpolar\"}],\"carpet\":[{\"aaxis\":{\"endlinecolor\":\"#2a3f5f\",\"gridcolor\":\"white\",\"linecolor\":\"white\",\"minorgridcolor\":\"white\",\"startlinecolor\":\"#2a3f5f\"},\"baxis\":{\"endlinecolor\":\"#2a3f5f\",\"gridcolor\":\"white\",\"linecolor\":\"white\",\"minorgridcolor\":\"white\",\"startlinecolor\":\"#2a3f5f\"},\"type\":\"carpet\"}],\"choropleth\":[{\"colorbar\":{\"outlinewidth\":0,\"ticks\":\"\"},\"type\":\"choropleth\"}],\"contour\":[{\"colorbar\":{\"outlinewidth\":0,\"ticks\":\"\"},\"colorscale\":[[0.0,\"#0d0887\"],[0.1111111111111111,\"#46039f\"],[0.2222222222222222,\"#7201a8\"],[0.3333333333333333,\"#9c179e\"],[0.4444444444444444,\"#bd3786\"],[0.5555555555555556,\"#d8576b\"],[0.6666666666666666,\"#ed7953\"],[0.7777777777777778,\"#fb9f3a\"],[0.8888888888888888,\"#fdca26\"],[1.0,\"#f0f921\"]],\"type\":\"contour\"}],\"contourcarpet\":[{\"colorbar\":{\"outlinewidth\":0,\"ticks\":\"\"},\"type\":\"contourcarpet\"}],\"heatmap\":[{\"colorbar\":{\"outlinewidth\":0,\"ticks\":\"\"},\"colorscale\":[[0.0,\"#0d0887\"],[0.1111111111111111,\"#46039f\"],[0.2222222222222222,\"#7201a8\"],[0.3333333333333333,\"#9c179e\"],[0.4444444444444444,\"#bd3786\"],[0.5555555555555556,\"#d8576b\"],[0.6666666666666666,\"#ed7953\"],[0.7777777777777778,\"#fb9f3a\"],[0.8888888888888888,\"#fdca26\"],[1.0,\"#f0f921\"]],\"type\":\"heatmap\"}],\"heatmapgl\":[{\"colorbar\":{\"outlinewidth\":0,\"ticks\":\"\"},\"colorscale\":[[0.0,\"#0d0887\"],[0.1111111111111111,\"#46039f\"],[0.2222222222222222,\"#7201a8\"],[0.3333333333333333,\"#9c179e\"],[0.4444444444444444,\"#bd3786\"],[0.5555555555555556,\"#d8576b\"],[0.6666666666666666,\"#ed7953\"],[0.7777777777777778,\"#fb9f3a\"],[0.8888888888888888,\"#fdca26\"],[1.0,\"#f0f921\"]],\"type\":\"heatmapgl\"}],\"histogram\":[{\"marker\":{\"pattern\":{\"fillmode\":\"overlay\",\"size\":10,\"solidity\":0.2}},\"type\":\"histogram\"}],\"histogram2d\":[{\"colorbar\":{\"outlinewidth\":0,\"ticks\":\"\"},\"colorscale\":[[0.0,\"#0d0887\"],[0.1111111111111111,\"#46039f\"],[0.2222222222222222,\"#7201a8\"],[0.3333333333333333,\"#9c179e\"],[0.4444444444444444,\"#bd3786\"],[0.5555555555555556,\"#d8576b\"],[0.6666666666666666,\"#ed7953\"],[0.7777777777777778,\"#fb9f3a\"],[0.8888888888888888,\"#fdca26\"],[1.0,\"#f0f921\"]],\"type\":\"histogram2d\"}],\"histogram2dcontour\":[{\"colorbar\":{\"outlinewidth\":0,\"ticks\":\"\"},\"colorscale\":[[0.0,\"#0d0887\"],[0.1111111111111111,\"#46039f\"],[0.2222222222222222,\"#7201a8\"],[0.3333333333333333,\"#9c179e\"],[0.4444444444444444,\"#bd3786\"],[0.5555555555555556,\"#d8576b\"],[0.6666666666666666,\"#ed7953\"],[0.7777777777777778,\"#fb9f3a\"],[0.8888888888888888,\"#fdca26\"],[1.0,\"#f0f921\"]],\"type\":\"histogram2dcontour\"}],\"mesh3d\":[{\"colorbar\":{\"outlinewidth\":0,\"ticks\":\"\"},\"type\":\"mesh3d\"}],\"parcoords\":[{\"line\":{\"colorbar\":{\"outlinewidth\":0,\"ticks\":\"\"}},\"type\":\"parcoords\"}],\"pie\":[{\"automargin\":true,\"type\":\"pie\"}],\"scatter\":[{\"marker\":{\"colorbar\":{\"outlinewidth\":0,\"ticks\":\"\"}},\"type\":\"scatter\"}],\"scatter3d\":[{\"line\":{\"colorbar\":{\"outlinewidth\":0,\"ticks\":\"\"}},\"marker\":{\"colorbar\":{\"outlinewidth\":0,\"ticks\":\"\"}},\"type\":\"scatter3d\"}],\"scattercarpet\":[{\"marker\":{\"colorbar\":{\"outlinewidth\":0,\"ticks\":\"\"}},\"type\":\"scattercarpet\"}],\"scattergeo\":[{\"marker\":{\"colorbar\":{\"outlinewidth\":0,\"ticks\":\"\"}},\"type\":\"scattergeo\"}],\"scattergl\":[{\"marker\":{\"colorbar\":{\"outlinewidth\":0,\"ticks\":\"\"}},\"type\":\"scattergl\"}],\"scattermapbox\":[{\"marker\":{\"colorbar\":{\"outlinewidth\":0,\"ticks\":\"\"}},\"type\":\"scattermapbox\"}],\"scatterpolar\":[{\"marker\":{\"colorbar\":{\"outlinewidth\":0,\"ticks\":\"\"}},\"type\":\"scatterpolar\"}],\"scatterpolargl\":[{\"marker\":{\"colorbar\":{\"outlinewidth\":0,\"ticks\":\"\"}},\"type\":\"scatterpolargl\"}],\"scatterternary\":[{\"marker\":{\"colorbar\":{\"outlinewidth\":0,\"ticks\":\"\"}},\"type\":\"scatterternary\"}],\"surface\":[{\"colorbar\":{\"outlinewidth\":0,\"ticks\":\"\"},\"colorscale\":[[0.0,\"#0d0887\"],[0.1111111111111111,\"#46039f\"],[0.2222222222222222,\"#7201a8\"],[0.3333333333333333,\"#9c179e\"],[0.4444444444444444,\"#bd3786\"],[0.5555555555555556,\"#d8576b\"],[0.6666666666666666,\"#ed7953\"],[0.7777777777777778,\"#fb9f3a\"],[0.8888888888888888,\"#fdca26\"],[1.0,\"#f0f921\"]],\"type\":\"surface\"}],\"table\":[{\"cells\":{\"fill\":{\"color\":\"#EBF0F8\"},\"line\":{\"color\":\"white\"}},\"header\":{\"fill\":{\"color\":\"#C8D4E3\"},\"line\":{\"color\":\"white\"}},\"type\":\"table\"}]},\"layout\":{\"annotationdefaults\":{\"arrowcolor\":\"#2a3f5f\",\"arrowhead\":0,\"arrowwidth\":1},\"autotypenumbers\":\"strict\",\"coloraxis\":{\"colorbar\":{\"outlinewidth\":0,\"ticks\":\"\"}},\"colorscale\":{\"diverging\":[[0,\"#8e0152\"],[0.1,\"#c51b7d\"],[0.2,\"#de77ae\"],[0.3,\"#f1b6da\"],[0.4,\"#fde0ef\"],[0.5,\"#f7f7f7\"],[0.6,\"#e6f5d0\"],[0.7,\"#b8e186\"],[0.8,\"#7fbc41\"],[0.9,\"#4d9221\"],[1,\"#276419\"]],\"sequential\":[[0.0,\"#0d0887\"],[0.1111111111111111,\"#46039f\"],[0.2222222222222222,\"#7201a8\"],[0.3333333333333333,\"#9c179e\"],[0.4444444444444444,\"#bd3786\"],[0.5555555555555556,\"#d8576b\"],[0.6666666666666666,\"#ed7953\"],[0.7777777777777778,\"#fb9f3a\"],[0.8888888888888888,\"#fdca26\"],[1.0,\"#f0f921\"]],\"sequentialminus\":[[0.0,\"#0d0887\"],[0.1111111111111111,\"#46039f\"],[0.2222222222222222,\"#7201a8\"],[0.3333333333333333,\"#9c179e\"],[0.4444444444444444,\"#bd3786\"],[0.5555555555555556,\"#d8576b\"],[0.6666666666666666,\"#ed7953\"],[0.7777777777777778,\"#fb9f3a\"],[0.8888888888888888,\"#fdca26\"],[1.0,\"#f0f921\"]]},\"colorway\":[\"#636efa\",\"#EF553B\",\"#00cc96\",\"#ab63fa\",\"#FFA15A\",\"#19d3f3\",\"#FF6692\",\"#B6E880\",\"#FF97FF\",\"#FECB52\"],\"font\":{\"color\":\"#2a3f5f\"},\"geo\":{\"bgcolor\":\"white\",\"lakecolor\":\"white\",\"landcolor\":\"#E5ECF6\",\"showlakes\":true,\"showland\":true,\"subunitcolor\":\"white\"},\"hoverlabel\":{\"align\":\"left\"},\"hovermode\":\"closest\",\"mapbox\":{\"style\":\"light\"},\"paper_bgcolor\":\"white\",\"plot_bgcolor\":\"#E5ECF6\",\"polar\":{\"angularaxis\":{\"gridcolor\":\"white\",\"linecolor\":\"white\",\"ticks\":\"\"},\"bgcolor\":\"#E5ECF6\",\"radialaxis\":{\"gridcolor\":\"white\",\"linecolor\":\"white\",\"ticks\":\"\"}},\"scene\":{\"xaxis\":{\"backgroundcolor\":\"#E5ECF6\",\"gridcolor\":\"white\",\"gridwidth\":2,\"linecolor\":\"white\",\"showbackground\":true,\"ticks\":\"\",\"zerolinecolor\":\"white\"},\"yaxis\":{\"backgroundcolor\":\"#E5ECF6\",\"gridcolor\":\"white\",\"gridwidth\":2,\"linecolor\":\"white\",\"showbackground\":true,\"ticks\":\"\",\"zerolinecolor\":\"white\"},\"zaxis\":{\"backgroundcolor\":\"#E5ECF6\",\"gridcolor\":\"white\",\"gridwidth\":2,\"linecolor\":\"white\",\"showbackground\":true,\"ticks\":\"\",\"zerolinecolor\":\"white\"}},\"shapedefaults\":{\"line\":{\"color\":\"#2a3f5f\"}},\"ternary\":{\"aaxis\":{\"gridcolor\":\"white\",\"linecolor\":\"white\",\"ticks\":\"\"},\"baxis\":{\"gridcolor\":\"white\",\"linecolor\":\"white\",\"ticks\":\"\"},\"bgcolor\":\"#E5ECF6\",\"caxis\":{\"gridcolor\":\"white\",\"linecolor\":\"white\",\"ticks\":\"\"}},\"title\":{\"x\":0.05},\"xaxis\":{\"automargin\":true,\"gridcolor\":\"white\",\"linecolor\":\"white\",\"ticks\":\"\",\"title\":{\"standoff\":15},\"zerolinecolor\":\"white\",\"zerolinewidth\":2},\"yaxis\":{\"automargin\":true,\"gridcolor\":\"white\",\"linecolor\":\"white\",\"ticks\":\"\",\"title\":{\"standoff\":15},\"zerolinecolor\":\"white\",\"zerolinewidth\":2}}},\"xaxis\":{\"anchor\":\"y\",\"domain\":[0.0,0.1257142857142857],\"title\":{\"text\":\"variable\"},\"visible\":false,\"showticklabels\":false},\"yaxis\":{\"anchor\":\"x\",\"domain\":[0.0,1.0],\"title\":{\"text\":\"value\"}},\"xaxis2\":{\"anchor\":\"y2\",\"domain\":[0.14571428571428569,0.27142857142857135],\"matches\":\"x\",\"title\":{\"text\":\"variable\"},\"visible\":false,\"showticklabels\":false},\"yaxis2\":{\"anchor\":\"x2\",\"domain\":[0.0,1.0],\"matches\":\"y\",\"showticklabels\":false},\"xaxis3\":{\"anchor\":\"y3\",\"domain\":[0.29142857142857137,0.41714285714285704],\"matches\":\"x\",\"title\":{\"text\":\"variable\"},\"visible\":false,\"showticklabels\":false},\"yaxis3\":{\"anchor\":\"x3\",\"domain\":[0.0,1.0],\"matches\":\"y\",\"showticklabels\":false},\"xaxis4\":{\"anchor\":\"y4\",\"domain\":[0.4371428571428571,0.5628571428571428],\"matches\":\"x\",\"title\":{\"text\":\"variable\"},\"visible\":false,\"showticklabels\":false},\"yaxis4\":{\"anchor\":\"x4\",\"domain\":[0.0,1.0],\"matches\":\"y\",\"showticklabels\":false},\"xaxis5\":{\"anchor\":\"y5\",\"domain\":[0.5828571428571427,0.7085714285714284],\"matches\":\"x\",\"title\":{\"text\":\"variable\"},\"visible\":false,\"showticklabels\":false},\"yaxis5\":{\"anchor\":\"x5\",\"domain\":[0.0,1.0],\"matches\":\"y\",\"showticklabels\":false},\"xaxis6\":{\"anchor\":\"y6\",\"domain\":[0.7285714285714284,0.8542857142857141],\"matches\":\"x\",\"title\":{\"text\":\"variable\"},\"visible\":false,\"showticklabels\":false},\"yaxis6\":{\"anchor\":\"x6\",\"domain\":[0.0,1.0],\"matches\":\"y\",\"showticklabels\":false},\"xaxis7\":{\"anchor\":\"y7\",\"domain\":[0.8742857142857141,0.9999999999999998],\"matches\":\"x\",\"title\":{\"text\":\"variable\"},\"visible\":false,\"showticklabels\":false},\"yaxis7\":{\"anchor\":\"x7\",\"domain\":[0.0,1.0],\"matches\":\"y\",\"showticklabels\":false},\"annotations\":[{\"font\":{},\"showarrow\":false,\"text\":\"SGDClassifier\",\"x\":0.06285714285714285,\"xanchor\":\"center\",\"xref\":\"paper\",\"y\":1.0,\"yanchor\":\"bottom\",\"yref\":\"paper\"},{\"font\":{},\"showarrow\":false,\"text\":\"LogisticRegression\",\"x\":0.20857142857142852,\"xanchor\":\"center\",\"xref\":\"paper\",\"y\":1.0,\"yanchor\":\"bottom\",\"yref\":\"paper\"},{\"font\":{},\"showarrow\":false,\"text\":\"MultinomialNB\",\"x\":0.3542857142857142,\"xanchor\":\"center\",\"xref\":\"paper\",\"y\":1.0,\"yanchor\":\"bottom\",\"yref\":\"paper\"},{\"font\":{},\"showarrow\":false,\"text\":\"LinearSVC\",\"x\":0.5,\"xanchor\":\"center\",\"xref\":\"paper\",\"y\":1.0,\"yanchor\":\"bottom\",\"yref\":\"paper\"},{\"font\":{},\"showarrow\":false,\"text\":\"RandomForestClassifier\",\"x\":0.6457142857142856,\"xanchor\":\"center\",\"xref\":\"paper\",\"y\":1.0,\"yanchor\":\"bottom\",\"yref\":\"paper\"},{\"font\":{},\"showarrow\":false,\"text\":\"LGBMClassifier\",\"x\":0.7914285714285713,\"xanchor\":\"center\",\"xref\":\"paper\",\"y\":1.0,\"yanchor\":\"bottom\",\"yref\":\"paper\"},{\"font\":{},\"showarrow\":false,\"text\":\"XGBClassifier\",\"x\":0.9371428571428569,\"xanchor\":\"center\",\"xref\":\"paper\",\"y\":1.0,\"yanchor\":\"bottom\",\"yref\":\"paper\"}],\"legend\":{\"title\":{\"text\":\"model_name\"},\"tracegroupgap\":0},\"title\":{\"text\":\"Model Baseline Performance (MCC)\"},\"boxmode\":\"overlay\"},                        {\"responsive\": true}                    ).then(function(){\n",
              "                            \n",
              "var gd = document.getElementById('fbd0e703-be1b-4992-a01f-840d82e718a8');\n",
              "var x = new MutationObserver(function (mutations, observer) {{\n",
              "        var display = window.getComputedStyle(gd).display;\n",
              "        if (!display || display === 'none') {{\n",
              "            console.log([gd, 'removed!']);\n",
              "            Plotly.purge(gd);\n",
              "            observer.disconnect();\n",
              "        }}\n",
              "}});\n",
              "\n",
              "// Listen for the removal of the full notebook cells\n",
              "var notebookContainer = gd.closest('#notebook-container');\n",
              "if (notebookContainer) {{\n",
              "    x.observe(notebookContainer, {childList: true});\n",
              "}}\n",
              "\n",
              "// Listen for the clearing of the current output cell\n",
              "var outputEl = gd.closest('.output');\n",
              "if (outputEl) {{\n",
              "    x.observe(outputEl, {childList: true});\n",
              "}}\n",
              "\n",
              "                        })                };                            </script>        </div>\n",
              "</body>\n",
              "</html>"
            ]
          },
          "metadata": {}
        },
        {
          "output_type": "display_data",
          "data": {
            "text/html": [
              "<html>\n",
              "<head><meta charset=\"utf-8\" /></head>\n",
              "<body>\n",
              "    <div>            <script src=\"https://cdnjs.cloudflare.com/ajax/libs/mathjax/2.7.5/MathJax.js?config=TeX-AMS-MML_SVG\"></script><script type=\"text/javascript\">if (window.MathJax) {MathJax.Hub.Config({SVG: {font: \"STIX-Web\"}});}</script>                <script type=\"text/javascript\">window.PlotlyConfig = {MathJaxConfig: 'local'};</script>\n",
              "        <script src=\"https://cdn.plot.ly/plotly-2.8.3.min.js\"></script>                <div id=\"9511cea4-af96-4747-915f-d456f2dbabc2\" class=\"plotly-graph-div\" style=\"height:525px; width:100%;\"></div>            <script type=\"text/javascript\">                                    window.PLOTLYENV=window.PLOTLYENV || {};                                    if (document.getElementById(\"9511cea4-af96-4747-915f-d456f2dbabc2\")) {                    Plotly.newPlot(                        \"9511cea4-af96-4747-915f-d456f2dbabc2\",                        [{\"alignmentgroup\":\"True\",\"hovertemplate\":\"model_name=SGDClassifier<br>variable=%{x}<br>value=%{y}<extra></extra>\",\"legendgroup\":\"SGDClassifier\",\"marker\":{\"color\":\"#636efa\"},\"name\":\"SGDClassifier\",\"notched\":false,\"offsetgroup\":\"SGDClassifier\",\"orientation\":\"v\",\"showlegend\":true,\"x\":[\"f1\",\"f1\",\"f1\",\"f1\",\"f1\"],\"x0\":\" \",\"xaxis\":\"x\",\"y\":[0.3609338037805874,0.37366071507816356,0.36913104474108077,0.3630201077348557,0.3647027961079753],\"y0\":\" \",\"yaxis\":\"y\",\"type\":\"box\"},{\"alignmentgroup\":\"True\",\"hovertemplate\":\"model_name=LogisticRegression<br>variable=%{x}<br>value=%{y}<extra></extra>\",\"legendgroup\":\"LogisticRegression\",\"marker\":{\"color\":\"#EF553B\"},\"name\":\"LogisticRegression\",\"notched\":false,\"offsetgroup\":\"LogisticRegression\",\"orientation\":\"v\",\"showlegend\":true,\"x\":[\"f1\",\"f1\",\"f1\",\"f1\",\"f1\"],\"x0\":\" \",\"xaxis\":\"x2\",\"y\":[0.4025515202859708,0.4097356539175869,0.4235639110216411,0.41751310829136745,0.40447910517063884],\"y0\":\" \",\"yaxis\":\"y2\",\"type\":\"box\"},{\"alignmentgroup\":\"True\",\"hovertemplate\":\"model_name=MultinomialNB<br>variable=%{x}<br>value=%{y}<extra></extra>\",\"legendgroup\":\"MultinomialNB\",\"marker\":{\"color\":\"#00cc96\"},\"name\":\"MultinomialNB\",\"notched\":false,\"offsetgroup\":\"MultinomialNB\",\"orientation\":\"v\",\"showlegend\":true,\"x\":[\"f1\",\"f1\",\"f1\",\"f1\",\"f1\"],\"x0\":\" \",\"xaxis\":\"x3\",\"y\":[0.37840333085944994,0.4029954203569742,0.4132036621094805,0.4077085760080773,0.42291704145566367],\"y0\":\" \",\"yaxis\":\"y3\",\"type\":\"box\"},{\"alignmentgroup\":\"True\",\"hovertemplate\":\"model_name=LinearSVC<br>variable=%{x}<br>value=%{y}<extra></extra>\",\"legendgroup\":\"LinearSVC\",\"marker\":{\"color\":\"#ab63fa\"},\"name\":\"LinearSVC\",\"notched\":false,\"offsetgroup\":\"LinearSVC\",\"orientation\":\"v\",\"showlegend\":true,\"x\":[\"f1\",\"f1\",\"f1\",\"f1\",\"f1\"],\"x0\":\" \",\"xaxis\":\"x4\",\"y\":[0.3798408717441871,0.41509823153524045,0.408855538813867,0.3965126674870417,0.39241122769751396],\"y0\":\" \",\"yaxis\":\"y4\",\"type\":\"box\"},{\"alignmentgroup\":\"True\",\"hovertemplate\":\"model_name=RandomForestClassifier<br>variable=%{x}<br>value=%{y}<extra></extra>\",\"legendgroup\":\"RandomForestClassifier\",\"marker\":{\"color\":\"#FFA15A\"},\"name\":\"RandomForestClassifier\",\"notched\":false,\"offsetgroup\":\"RandomForestClassifier\",\"orientation\":\"v\",\"showlegend\":true,\"x\":[\"f1\",\"f1\",\"f1\",\"f1\",\"f1\"],\"x0\":\" \",\"xaxis\":\"x5\",\"y\":[0.37692606660917327,0.3650758881534483,0.40623956813051604,0.37724582674082124,0.3964381264391916],\"y0\":\" \",\"yaxis\":\"y5\",\"type\":\"box\"},{\"alignmentgroup\":\"True\",\"hovertemplate\":\"model_name=LGBMClassifier<br>variable=%{x}<br>value=%{y}<extra></extra>\",\"legendgroup\":\"LGBMClassifier\",\"marker\":{\"color\":\"#19d3f3\"},\"name\":\"LGBMClassifier\",\"notched\":false,\"offsetgroup\":\"LGBMClassifier\",\"orientation\":\"v\",\"showlegend\":true,\"x\":[\"f1\",\"f1\",\"f1\",\"f1\",\"f1\"],\"x0\":\" \",\"xaxis\":\"x6\",\"y\":[0.3945215491740634,0.41518280303878174,0.42065478796346617,0.4074818697915136,0.42724126776804505],\"y0\":\" \",\"yaxis\":\"y6\",\"type\":\"box\"},{\"alignmentgroup\":\"True\",\"hovertemplate\":\"model_name=XGBClassifier<br>variable=%{x}<br>value=%{y}<extra></extra>\",\"legendgroup\":\"XGBClassifier\",\"marker\":{\"color\":\"#FF6692\"},\"name\":\"XGBClassifier\",\"notched\":false,\"offsetgroup\":\"XGBClassifier\",\"orientation\":\"v\",\"showlegend\":true,\"x\":[\"f1\",\"f1\",\"f1\",\"f1\",\"f1\"],\"x0\":\" \",\"xaxis\":\"x7\",\"y\":[0.38715179944902767,0.3682798441731384,0.38862692036693025,0.3652385285118414,0.3789046197445723],\"y0\":\" \",\"yaxis\":\"y7\",\"type\":\"box\"}],                        {\"template\":{\"data\":{\"bar\":[{\"error_x\":{\"color\":\"#2a3f5f\"},\"error_y\":{\"color\":\"#2a3f5f\"},\"marker\":{\"line\":{\"color\":\"#E5ECF6\",\"width\":0.5},\"pattern\":{\"fillmode\":\"overlay\",\"size\":10,\"solidity\":0.2}},\"type\":\"bar\"}],\"barpolar\":[{\"marker\":{\"line\":{\"color\":\"#E5ECF6\",\"width\":0.5},\"pattern\":{\"fillmode\":\"overlay\",\"size\":10,\"solidity\":0.2}},\"type\":\"barpolar\"}],\"carpet\":[{\"aaxis\":{\"endlinecolor\":\"#2a3f5f\",\"gridcolor\":\"white\",\"linecolor\":\"white\",\"minorgridcolor\":\"white\",\"startlinecolor\":\"#2a3f5f\"},\"baxis\":{\"endlinecolor\":\"#2a3f5f\",\"gridcolor\":\"white\",\"linecolor\":\"white\",\"minorgridcolor\":\"white\",\"startlinecolor\":\"#2a3f5f\"},\"type\":\"carpet\"}],\"choropleth\":[{\"colorbar\":{\"outlinewidth\":0,\"ticks\":\"\"},\"type\":\"choropleth\"}],\"contour\":[{\"colorbar\":{\"outlinewidth\":0,\"ticks\":\"\"},\"colorscale\":[[0.0,\"#0d0887\"],[0.1111111111111111,\"#46039f\"],[0.2222222222222222,\"#7201a8\"],[0.3333333333333333,\"#9c179e\"],[0.4444444444444444,\"#bd3786\"],[0.5555555555555556,\"#d8576b\"],[0.6666666666666666,\"#ed7953\"],[0.7777777777777778,\"#fb9f3a\"],[0.8888888888888888,\"#fdca26\"],[1.0,\"#f0f921\"]],\"type\":\"contour\"}],\"contourcarpet\":[{\"colorbar\":{\"outlinewidth\":0,\"ticks\":\"\"},\"type\":\"contourcarpet\"}],\"heatmap\":[{\"colorbar\":{\"outlinewidth\":0,\"ticks\":\"\"},\"colorscale\":[[0.0,\"#0d0887\"],[0.1111111111111111,\"#46039f\"],[0.2222222222222222,\"#7201a8\"],[0.3333333333333333,\"#9c179e\"],[0.4444444444444444,\"#bd3786\"],[0.5555555555555556,\"#d8576b\"],[0.6666666666666666,\"#ed7953\"],[0.7777777777777778,\"#fb9f3a\"],[0.8888888888888888,\"#fdca26\"],[1.0,\"#f0f921\"]],\"type\":\"heatmap\"}],\"heatmapgl\":[{\"colorbar\":{\"outlinewidth\":0,\"ticks\":\"\"},\"colorscale\":[[0.0,\"#0d0887\"],[0.1111111111111111,\"#46039f\"],[0.2222222222222222,\"#7201a8\"],[0.3333333333333333,\"#9c179e\"],[0.4444444444444444,\"#bd3786\"],[0.5555555555555556,\"#d8576b\"],[0.6666666666666666,\"#ed7953\"],[0.7777777777777778,\"#fb9f3a\"],[0.8888888888888888,\"#fdca26\"],[1.0,\"#f0f921\"]],\"type\":\"heatmapgl\"}],\"histogram\":[{\"marker\":{\"pattern\":{\"fillmode\":\"overlay\",\"size\":10,\"solidity\":0.2}},\"type\":\"histogram\"}],\"histogram2d\":[{\"colorbar\":{\"outlinewidth\":0,\"ticks\":\"\"},\"colorscale\":[[0.0,\"#0d0887\"],[0.1111111111111111,\"#46039f\"],[0.2222222222222222,\"#7201a8\"],[0.3333333333333333,\"#9c179e\"],[0.4444444444444444,\"#bd3786\"],[0.5555555555555556,\"#d8576b\"],[0.6666666666666666,\"#ed7953\"],[0.7777777777777778,\"#fb9f3a\"],[0.8888888888888888,\"#fdca26\"],[1.0,\"#f0f921\"]],\"type\":\"histogram2d\"}],\"histogram2dcontour\":[{\"colorbar\":{\"outlinewidth\":0,\"ticks\":\"\"},\"colorscale\":[[0.0,\"#0d0887\"],[0.1111111111111111,\"#46039f\"],[0.2222222222222222,\"#7201a8\"],[0.3333333333333333,\"#9c179e\"],[0.4444444444444444,\"#bd3786\"],[0.5555555555555556,\"#d8576b\"],[0.6666666666666666,\"#ed7953\"],[0.7777777777777778,\"#fb9f3a\"],[0.8888888888888888,\"#fdca26\"],[1.0,\"#f0f921\"]],\"type\":\"histogram2dcontour\"}],\"mesh3d\":[{\"colorbar\":{\"outlinewidth\":0,\"ticks\":\"\"},\"type\":\"mesh3d\"}],\"parcoords\":[{\"line\":{\"colorbar\":{\"outlinewidth\":0,\"ticks\":\"\"}},\"type\":\"parcoords\"}],\"pie\":[{\"automargin\":true,\"type\":\"pie\"}],\"scatter\":[{\"marker\":{\"colorbar\":{\"outlinewidth\":0,\"ticks\":\"\"}},\"type\":\"scatter\"}],\"scatter3d\":[{\"line\":{\"colorbar\":{\"outlinewidth\":0,\"ticks\":\"\"}},\"marker\":{\"colorbar\":{\"outlinewidth\":0,\"ticks\":\"\"}},\"type\":\"scatter3d\"}],\"scattercarpet\":[{\"marker\":{\"colorbar\":{\"outlinewidth\":0,\"ticks\":\"\"}},\"type\":\"scattercarpet\"}],\"scattergeo\":[{\"marker\":{\"colorbar\":{\"outlinewidth\":0,\"ticks\":\"\"}},\"type\":\"scattergeo\"}],\"scattergl\":[{\"marker\":{\"colorbar\":{\"outlinewidth\":0,\"ticks\":\"\"}},\"type\":\"scattergl\"}],\"scattermapbox\":[{\"marker\":{\"colorbar\":{\"outlinewidth\":0,\"ticks\":\"\"}},\"type\":\"scattermapbox\"}],\"scatterpolar\":[{\"marker\":{\"colorbar\":{\"outlinewidth\":0,\"ticks\":\"\"}},\"type\":\"scatterpolar\"}],\"scatterpolargl\":[{\"marker\":{\"colorbar\":{\"outlinewidth\":0,\"ticks\":\"\"}},\"type\":\"scatterpolargl\"}],\"scatterternary\":[{\"marker\":{\"colorbar\":{\"outlinewidth\":0,\"ticks\":\"\"}},\"type\":\"scatterternary\"}],\"surface\":[{\"colorbar\":{\"outlinewidth\":0,\"ticks\":\"\"},\"colorscale\":[[0.0,\"#0d0887\"],[0.1111111111111111,\"#46039f\"],[0.2222222222222222,\"#7201a8\"],[0.3333333333333333,\"#9c179e\"],[0.4444444444444444,\"#bd3786\"],[0.5555555555555556,\"#d8576b\"],[0.6666666666666666,\"#ed7953\"],[0.7777777777777778,\"#fb9f3a\"],[0.8888888888888888,\"#fdca26\"],[1.0,\"#f0f921\"]],\"type\":\"surface\"}],\"table\":[{\"cells\":{\"fill\":{\"color\":\"#EBF0F8\"},\"line\":{\"color\":\"white\"}},\"header\":{\"fill\":{\"color\":\"#C8D4E3\"},\"line\":{\"color\":\"white\"}},\"type\":\"table\"}]},\"layout\":{\"annotationdefaults\":{\"arrowcolor\":\"#2a3f5f\",\"arrowhead\":0,\"arrowwidth\":1},\"autotypenumbers\":\"strict\",\"coloraxis\":{\"colorbar\":{\"outlinewidth\":0,\"ticks\":\"\"}},\"colorscale\":{\"diverging\":[[0,\"#8e0152\"],[0.1,\"#c51b7d\"],[0.2,\"#de77ae\"],[0.3,\"#f1b6da\"],[0.4,\"#fde0ef\"],[0.5,\"#f7f7f7\"],[0.6,\"#e6f5d0\"],[0.7,\"#b8e186\"],[0.8,\"#7fbc41\"],[0.9,\"#4d9221\"],[1,\"#276419\"]],\"sequential\":[[0.0,\"#0d0887\"],[0.1111111111111111,\"#46039f\"],[0.2222222222222222,\"#7201a8\"],[0.3333333333333333,\"#9c179e\"],[0.4444444444444444,\"#bd3786\"],[0.5555555555555556,\"#d8576b\"],[0.6666666666666666,\"#ed7953\"],[0.7777777777777778,\"#fb9f3a\"],[0.8888888888888888,\"#fdca26\"],[1.0,\"#f0f921\"]],\"sequentialminus\":[[0.0,\"#0d0887\"],[0.1111111111111111,\"#46039f\"],[0.2222222222222222,\"#7201a8\"],[0.3333333333333333,\"#9c179e\"],[0.4444444444444444,\"#bd3786\"],[0.5555555555555556,\"#d8576b\"],[0.6666666666666666,\"#ed7953\"],[0.7777777777777778,\"#fb9f3a\"],[0.8888888888888888,\"#fdca26\"],[1.0,\"#f0f921\"]]},\"colorway\":[\"#636efa\",\"#EF553B\",\"#00cc96\",\"#ab63fa\",\"#FFA15A\",\"#19d3f3\",\"#FF6692\",\"#B6E880\",\"#FF97FF\",\"#FECB52\"],\"font\":{\"color\":\"#2a3f5f\"},\"geo\":{\"bgcolor\":\"white\",\"lakecolor\":\"white\",\"landcolor\":\"#E5ECF6\",\"showlakes\":true,\"showland\":true,\"subunitcolor\":\"white\"},\"hoverlabel\":{\"align\":\"left\"},\"hovermode\":\"closest\",\"mapbox\":{\"style\":\"light\"},\"paper_bgcolor\":\"white\",\"plot_bgcolor\":\"#E5ECF6\",\"polar\":{\"angularaxis\":{\"gridcolor\":\"white\",\"linecolor\":\"white\",\"ticks\":\"\"},\"bgcolor\":\"#E5ECF6\",\"radialaxis\":{\"gridcolor\":\"white\",\"linecolor\":\"white\",\"ticks\":\"\"}},\"scene\":{\"xaxis\":{\"backgroundcolor\":\"#E5ECF6\",\"gridcolor\":\"white\",\"gridwidth\":2,\"linecolor\":\"white\",\"showbackground\":true,\"ticks\":\"\",\"zerolinecolor\":\"white\"},\"yaxis\":{\"backgroundcolor\":\"#E5ECF6\",\"gridcolor\":\"white\",\"gridwidth\":2,\"linecolor\":\"white\",\"showbackground\":true,\"ticks\":\"\",\"zerolinecolor\":\"white\"},\"zaxis\":{\"backgroundcolor\":\"#E5ECF6\",\"gridcolor\":\"white\",\"gridwidth\":2,\"linecolor\":\"white\",\"showbackground\":true,\"ticks\":\"\",\"zerolinecolor\":\"white\"}},\"shapedefaults\":{\"line\":{\"color\":\"#2a3f5f\"}},\"ternary\":{\"aaxis\":{\"gridcolor\":\"white\",\"linecolor\":\"white\",\"ticks\":\"\"},\"baxis\":{\"gridcolor\":\"white\",\"linecolor\":\"white\",\"ticks\":\"\"},\"bgcolor\":\"#E5ECF6\",\"caxis\":{\"gridcolor\":\"white\",\"linecolor\":\"white\",\"ticks\":\"\"}},\"title\":{\"x\":0.05},\"xaxis\":{\"automargin\":true,\"gridcolor\":\"white\",\"linecolor\":\"white\",\"ticks\":\"\",\"title\":{\"standoff\":15},\"zerolinecolor\":\"white\",\"zerolinewidth\":2},\"yaxis\":{\"automargin\":true,\"gridcolor\":\"white\",\"linecolor\":\"white\",\"ticks\":\"\",\"title\":{\"standoff\":15},\"zerolinecolor\":\"white\",\"zerolinewidth\":2}}},\"xaxis\":{\"anchor\":\"y\",\"domain\":[0.0,0.1257142857142857],\"title\":{\"text\":\"variable\"},\"visible\":false,\"showticklabels\":false},\"yaxis\":{\"anchor\":\"x\",\"domain\":[0.0,1.0],\"title\":{\"text\":\"value\"}},\"xaxis2\":{\"anchor\":\"y2\",\"domain\":[0.14571428571428569,0.27142857142857135],\"matches\":\"x\",\"title\":{\"text\":\"variable\"},\"visible\":false,\"showticklabels\":false},\"yaxis2\":{\"anchor\":\"x2\",\"domain\":[0.0,1.0],\"matches\":\"y\",\"showticklabels\":false},\"xaxis3\":{\"anchor\":\"y3\",\"domain\":[0.29142857142857137,0.41714285714285704],\"matches\":\"x\",\"title\":{\"text\":\"variable\"},\"visible\":false,\"showticklabels\":false},\"yaxis3\":{\"anchor\":\"x3\",\"domain\":[0.0,1.0],\"matches\":\"y\",\"showticklabels\":false},\"xaxis4\":{\"anchor\":\"y4\",\"domain\":[0.4371428571428571,0.5628571428571428],\"matches\":\"x\",\"title\":{\"text\":\"variable\"},\"visible\":false,\"showticklabels\":false},\"yaxis4\":{\"anchor\":\"x4\",\"domain\":[0.0,1.0],\"matches\":\"y\",\"showticklabels\":false},\"xaxis5\":{\"anchor\":\"y5\",\"domain\":[0.5828571428571427,0.7085714285714284],\"matches\":\"x\",\"title\":{\"text\":\"variable\"},\"visible\":false,\"showticklabels\":false},\"yaxis5\":{\"anchor\":\"x5\",\"domain\":[0.0,1.0],\"matches\":\"y\",\"showticklabels\":false},\"xaxis6\":{\"anchor\":\"y6\",\"domain\":[0.7285714285714284,0.8542857142857141],\"matches\":\"x\",\"title\":{\"text\":\"variable\"},\"visible\":false,\"showticklabels\":false},\"yaxis6\":{\"anchor\":\"x6\",\"domain\":[0.0,1.0],\"matches\":\"y\",\"showticklabels\":false},\"xaxis7\":{\"anchor\":\"y7\",\"domain\":[0.8742857142857141,0.9999999999999998],\"matches\":\"x\",\"title\":{\"text\":\"variable\"},\"visible\":false,\"showticklabels\":false},\"yaxis7\":{\"anchor\":\"x7\",\"domain\":[0.0,1.0],\"matches\":\"y\",\"showticklabels\":false},\"annotations\":[{\"font\":{},\"showarrow\":false,\"text\":\"SGDClassifier\",\"x\":0.06285714285714285,\"xanchor\":\"center\",\"xref\":\"paper\",\"y\":1.0,\"yanchor\":\"bottom\",\"yref\":\"paper\"},{\"font\":{},\"showarrow\":false,\"text\":\"LogisticRegression\",\"x\":0.20857142857142852,\"xanchor\":\"center\",\"xref\":\"paper\",\"y\":1.0,\"yanchor\":\"bottom\",\"yref\":\"paper\"},{\"font\":{},\"showarrow\":false,\"text\":\"MultinomialNB\",\"x\":0.3542857142857142,\"xanchor\":\"center\",\"xref\":\"paper\",\"y\":1.0,\"yanchor\":\"bottom\",\"yref\":\"paper\"},{\"font\":{},\"showarrow\":false,\"text\":\"LinearSVC\",\"x\":0.5,\"xanchor\":\"center\",\"xref\":\"paper\",\"y\":1.0,\"yanchor\":\"bottom\",\"yref\":\"paper\"},{\"font\":{},\"showarrow\":false,\"text\":\"RandomForestClassifier\",\"x\":0.6457142857142856,\"xanchor\":\"center\",\"xref\":\"paper\",\"y\":1.0,\"yanchor\":\"bottom\",\"yref\":\"paper\"},{\"font\":{},\"showarrow\":false,\"text\":\"LGBMClassifier\",\"x\":0.7914285714285713,\"xanchor\":\"center\",\"xref\":\"paper\",\"y\":1.0,\"yanchor\":\"bottom\",\"yref\":\"paper\"},{\"font\":{},\"showarrow\":false,\"text\":\"XGBClassifier\",\"x\":0.9371428571428569,\"xanchor\":\"center\",\"xref\":\"paper\",\"y\":1.0,\"yanchor\":\"bottom\",\"yref\":\"paper\"}],\"legend\":{\"title\":{\"text\":\"model_name\"},\"tracegroupgap\":0},\"title\":{\"text\":\"Model Baseline Performance (F1-Macro)\"},\"boxmode\":\"overlay\"},                        {\"responsive\": true}                    ).then(function(){\n",
              "                            \n",
              "var gd = document.getElementById('9511cea4-af96-4747-915f-d456f2dbabc2');\n",
              "var x = new MutationObserver(function (mutations, observer) {{\n",
              "        var display = window.getComputedStyle(gd).display;\n",
              "        if (!display || display === 'none') {{\n",
              "            console.log([gd, 'removed!']);\n",
              "            Plotly.purge(gd);\n",
              "            observer.disconnect();\n",
              "        }}\n",
              "}});\n",
              "\n",
              "// Listen for the removal of the full notebook cells\n",
              "var notebookContainer = gd.closest('#notebook-container');\n",
              "if (notebookContainer) {{\n",
              "    x.observe(notebookContainer, {childList: true});\n",
              "}}\n",
              "\n",
              "// Listen for the clearing of the current output cell\n",
              "var outputEl = gd.closest('.output');\n",
              "if (outputEl) {{\n",
              "    x.observe(outputEl, {childList: true});\n",
              "}}\n",
              "\n",
              "                        })                };                            </script>        </div>\n",
              "</body>\n",
              "</html>"
            ]
          },
          "metadata": {}
        }
      ],
      "source": [
        "mcc_perf = px.box(cv_df[['mcc', 'model_name']],\n",
        "             facet_col='model_name', \n",
        "             boxmode=\"overlay\", \n",
        "             color='model_name',\n",
        "             title='Model Baseline Performance (MCC)', \n",
        "             labels={})\n",
        "mcc_perf.update_xaxes(visible=False, showticklabels=False)\n",
        "for annotation in mcc_perf.layout.annotations:\n",
        "    annotation.text = annotation.text.split(\"=\")[1]\n",
        "mcc_perf.show()\n",
        "\n",
        "\n",
        "f1_perf = px.box(cv_df[['f1', 'model_name']],\n",
        "             facet_col='model_name', \n",
        "             boxmode=\"overlay\", \n",
        "             color='model_name',\n",
        "             title='Model Baseline Performance (F1-Macro)', \n",
        "             labels={})\n",
        "f1_perf.update_xaxes(visible=False, showticklabels=False)\n",
        "for annotation in f1_perf.layout.annotations:\n",
        "    annotation.text = annotation.text.split(\"=\")[1]\n",
        "f1_perf.show()"
      ]
    },
    {
      "cell_type": "code",
      "source": [
        "mcc_perf.write_html(\"mcc_baseline.html\")\n",
        "f1_perf.write_html(\"f1_baseline.html\")"
      ],
      "metadata": {
        "id": "8dcjEdVA6OgM"
      },
      "execution_count": null,
      "outputs": []
    },
    {
      "cell_type": "markdown",
      "metadata": {
        "id": "6u_GmbGagJSx"
      },
      "source": [
        "Logistic Regression and LightGBM performs the best but across all classifiers, the best average F1-score is between 0.36 - 0.41."
      ]
    },
    {
      "cell_type": "code",
      "execution_count": null,
      "metadata": {
        "id": "JvaAIsn6KY_X"
      },
      "outputs": [],
      "source": [
        "#cv_df.to_pickle('cv_results_df')"
      ]
    },
    {
      "cell_type": "markdown",
      "metadata": {
        "id": "wnTlzWNlZLfQ"
      },
      "source": [
        "## Building Pipeline\n",
        "\n",
        "1. Text pipeline for processing steps: vectorizer\n",
        "2. Model pipeline: with different algorithms and hyperparameters"
      ]
    },
    {
      "cell_type": "code",
      "execution_count": null,
      "metadata": {
        "colab": {
          "base_uri": "https://localhost:8080/"
        },
        "id": "BNXc9GNnN1Zf",
        "outputId": "7f4b2a5c-c5bf-44f7-a77b-9b5869438aeb"
      },
      "outputs": [
        {
          "output_type": "stream",
          "name": "stdout",
          "text": [
            "(8454, 300) (2114, 300)\n"
          ]
        }
      ],
      "source": [
        "print(X_train_prep.shape, X_val_prep.shape)"
      ]
    },
    {
      "cell_type": "code",
      "execution_count": null,
      "metadata": {
        "id": "1zKxwLLmEewV"
      },
      "outputs": [],
      "source": [
        "def run_grid_search(pipeline, params, X_train, y_train, X_val, y_val):\n",
        "  stratified_kfold = StratifiedKFold(n_splits=3,\n",
        "                                       shuffle=True,\n",
        "                                       random_state=11)\n",
        "  start_time = time.time()\n",
        "  gs = GridSearchCV(pipeline, \n",
        "                    param_grid=params, \n",
        "                    cv=stratified_kfold, \n",
        "                    scoring='f1_macro',\n",
        "                    verbose=1, \n",
        "                    n_jobs=-1)\n",
        "  gs.fit(X_train, y_train)\n",
        "  runtime = time.time() - start_time\n",
        "  print(\"Runtime: %s seconds\" % runtime)\n",
        "\n",
        "  # examine the best model\n",
        "  best_score = gs.best_score_   # mean score for the best estimator\n",
        "  best_params = gs.best_params_\n",
        "  print('Best Score:', best_score) \n",
        "  print('Best Params:', best_params)\n",
        "  \n",
        "  # predict using best model\n",
        "  train_pred = gs.predict(X_train)\n",
        "  val_pred = gs.predict(X_val)\n",
        "\n",
        "  # print eval metrics\n",
        "  train_mcc = matthews_corrcoef(y_train, train_pred)\n",
        "  val_mcc = matthews_corrcoef(y_val, val_pred)\n",
        "  train_f1 = f1_score(y_train, train_pred, average='macro')\n",
        "  val_f1 = f1_score(y_val, val_pred, average='macro')\n",
        "\n",
        "  print('train MCC:', train_mcc)\n",
        "  print('val MCC:', val_mcc)\n",
        "  print('train F1-score', train_f1)\n",
        "  print('val F1-score', val_f1)\n",
        "  \n",
        "  print(classification_report(y_val, val_pred))\n",
        "\n",
        "  # return best model and eval metrics\n",
        "  summary_df = pd.DataFrame([[pipeline['clf'], runtime, best_score, best_params, train_mcc, val_mcc, train_f1, val_f1]], \n",
        "                            columns=[\"model\", \"runtime\", \"best_score\", \"best_params\",  \"train_mcc\", \"val_mcc\", \"train_f1\", \"val_f1\"])\n",
        "  return gs, summary_df"
      ]
    },
    {
      "cell_type": "markdown",
      "metadata": {
        "id": "8rctOQGaOuSO"
      },
      "source": [
        "## Logistic Regression"
      ]
    },
    {
      "cell_type": "code",
      "source": [
        "# without smote\n",
        "logreg_pipe = Pipeline([\n",
        "    ('tfidf', TfidfVectorizer(use_idf=True)),\n",
        "#('smote', SMOTE(random_state=12)),\n",
        "    ('clf', LogisticRegression(random_state=1)),\n",
        "    ])\n",
        "logreg_params = {'clf__C': [0.01, 0.1, 1.0, 10, 100],\n",
        "                 'clf__class_weight': ['balanced', None],\n",
        "                 'clf__multi_class': ['ovr', 'multinomial'],\n",
        "                 'clf__max_iter':[100, 500, 1000]\n",
        "                 }\n",
        "logreg_gs_model, logreg_gs_df = run_grid_search(logreg_pipe, logreg_params, X_train, y_train, X_val, y_val)"
      ],
      "metadata": {
        "colab": {
          "base_uri": "https://localhost:8080/"
        },
        "id": "SYOPCmlg9ucQ",
        "outputId": "0db08ae2-d604-4da6-996d-aa746fe1691b"
      },
      "execution_count": null,
      "outputs": [
        {
          "output_type": "stream",
          "name": "stdout",
          "text": [
            "Fitting 3 folds for each of 60 candidates, totalling 180 fits\n",
            "Runtime: 152.66362619400024 seconds\n",
            "Best Score: 0.4723295184382972\n",
            "Best Params: {'clf__C': 1.0, 'clf__class_weight': 'balanced', 'clf__max_iter': 100, 'clf__multi_class': 'ovr'}\n",
            "train MCC: 0.6843503949088312\n",
            "val MCC: 0.37746240745120896\n",
            "train F1-score 0.7920008409124011\n",
            "val F1-score 0.4984583323714881\n",
            "              precision    recall  f1-score   support\n",
            "\n",
            "           1       0.50      0.58      0.54        85\n",
            "           2       0.34      0.44      0.38       102\n",
            "           3       0.33      0.39      0.36       229\n",
            "           4       0.46      0.46      0.46       608\n",
            "           5       0.79      0.72      0.75      1090\n",
            "\n",
            "    accuracy                           0.59      2114\n",
            "   macro avg       0.48      0.52      0.50      2114\n",
            "weighted avg       0.61      0.59      0.60      2114\n",
            "\n"
          ]
        }
      ]
    },
    {
      "cell_type": "code",
      "source": [
        "logreg_gs_df"
      ],
      "metadata": {
        "colab": {
          "base_uri": "https://localhost:8080/",
          "height": 81
        },
        "id": "A8ytFX6Y-vO3",
        "outputId": "0ed1dc51-734d-4b74-869a-4b68665a0c03"
      },
      "execution_count": null,
      "outputs": [
        {
          "output_type": "execute_result",
          "data": {
            "text/plain": [
              "                                model     runtime  best_score  \\\n",
              "0  LogisticRegression(random_state=1)  152.663626     0.47233   \n",
              "\n",
              "                                         best_params  train_mcc   val_mcc  \\\n",
              "0  {'clf__C': 1.0, 'clf__class_weight': 'balanced...    0.68435  0.377462   \n",
              "\n",
              "   train_f1    val_f1  \n",
              "0  0.792001  0.498458  "
            ],
            "text/html": [
              "\n",
              "  <div id=\"df-bfe75fff-bdad-428a-96bb-ac729958a955\">\n",
              "    <div class=\"colab-df-container\">\n",
              "      <div>\n",
              "<style scoped>\n",
              "    .dataframe tbody tr th:only-of-type {\n",
              "        vertical-align: middle;\n",
              "    }\n",
              "\n",
              "    .dataframe tbody tr th {\n",
              "        vertical-align: top;\n",
              "    }\n",
              "\n",
              "    .dataframe thead th {\n",
              "        text-align: right;\n",
              "    }\n",
              "</style>\n",
              "<table border=\"1\" class=\"dataframe\">\n",
              "  <thead>\n",
              "    <tr style=\"text-align: right;\">\n",
              "      <th></th>\n",
              "      <th>model</th>\n",
              "      <th>runtime</th>\n",
              "      <th>best_score</th>\n",
              "      <th>best_params</th>\n",
              "      <th>train_mcc</th>\n",
              "      <th>val_mcc</th>\n",
              "      <th>train_f1</th>\n",
              "      <th>val_f1</th>\n",
              "    </tr>\n",
              "  </thead>\n",
              "  <tbody>\n",
              "    <tr>\n",
              "      <th>0</th>\n",
              "      <td>LogisticRegression(random_state=1)</td>\n",
              "      <td>152.663626</td>\n",
              "      <td>0.47233</td>\n",
              "      <td>{'clf__C': 1.0, 'clf__class_weight': 'balanced...</td>\n",
              "      <td>0.68435</td>\n",
              "      <td>0.377462</td>\n",
              "      <td>0.792001</td>\n",
              "      <td>0.498458</td>\n",
              "    </tr>\n",
              "  </tbody>\n",
              "</table>\n",
              "</div>\n",
              "      <button class=\"colab-df-convert\" onclick=\"convertToInteractive('df-bfe75fff-bdad-428a-96bb-ac729958a955')\"\n",
              "              title=\"Convert this dataframe to an interactive table.\"\n",
              "              style=\"display:none;\">\n",
              "        \n",
              "  <svg xmlns=\"http://www.w3.org/2000/svg\" height=\"24px\"viewBox=\"0 0 24 24\"\n",
              "       width=\"24px\">\n",
              "    <path d=\"M0 0h24v24H0V0z\" fill=\"none\"/>\n",
              "    <path d=\"M18.56 5.44l.94 2.06.94-2.06 2.06-.94-2.06-.94-.94-2.06-.94 2.06-2.06.94zm-11 1L8.5 8.5l.94-2.06 2.06-.94-2.06-.94L8.5 2.5l-.94 2.06-2.06.94zm10 10l.94 2.06.94-2.06 2.06-.94-2.06-.94-.94-2.06-.94 2.06-2.06.94z\"/><path d=\"M17.41 7.96l-1.37-1.37c-.4-.4-.92-.59-1.43-.59-.52 0-1.04.2-1.43.59L10.3 9.45l-7.72 7.72c-.78.78-.78 2.05 0 2.83L4 21.41c.39.39.9.59 1.41.59.51 0 1.02-.2 1.41-.59l7.78-7.78 2.81-2.81c.8-.78.8-2.07 0-2.86zM5.41 20L4 18.59l7.72-7.72 1.47 1.35L5.41 20z\"/>\n",
              "  </svg>\n",
              "      </button>\n",
              "      \n",
              "  <style>\n",
              "    .colab-df-container {\n",
              "      display:flex;\n",
              "      flex-wrap:wrap;\n",
              "      gap: 12px;\n",
              "    }\n",
              "\n",
              "    .colab-df-convert {\n",
              "      background-color: #E8F0FE;\n",
              "      border: none;\n",
              "      border-radius: 50%;\n",
              "      cursor: pointer;\n",
              "      display: none;\n",
              "      fill: #1967D2;\n",
              "      height: 32px;\n",
              "      padding: 0 0 0 0;\n",
              "      width: 32px;\n",
              "    }\n",
              "\n",
              "    .colab-df-convert:hover {\n",
              "      background-color: #E2EBFA;\n",
              "      box-shadow: 0px 1px 2px rgba(60, 64, 67, 0.3), 0px 1px 3px 1px rgba(60, 64, 67, 0.15);\n",
              "      fill: #174EA6;\n",
              "    }\n",
              "\n",
              "    [theme=dark] .colab-df-convert {\n",
              "      background-color: #3B4455;\n",
              "      fill: #D2E3FC;\n",
              "    }\n",
              "\n",
              "    [theme=dark] .colab-df-convert:hover {\n",
              "      background-color: #434B5C;\n",
              "      box-shadow: 0px 1px 3px 1px rgba(0, 0, 0, 0.15);\n",
              "      filter: drop-shadow(0px 1px 2px rgba(0, 0, 0, 0.3));\n",
              "      fill: #FFFFFF;\n",
              "    }\n",
              "  </style>\n",
              "\n",
              "      <script>\n",
              "        const buttonEl =\n",
              "          document.querySelector('#df-bfe75fff-bdad-428a-96bb-ac729958a955 button.colab-df-convert');\n",
              "        buttonEl.style.display =\n",
              "          google.colab.kernel.accessAllowed ? 'block' : 'none';\n",
              "\n",
              "        async function convertToInteractive(key) {\n",
              "          const element = document.querySelector('#df-bfe75fff-bdad-428a-96bb-ac729958a955');\n",
              "          const dataTable =\n",
              "            await google.colab.kernel.invokeFunction('convertToInteractive',\n",
              "                                                     [key], {});\n",
              "          if (!dataTable) return;\n",
              "\n",
              "          const docLinkHtml = 'Like what you see? Visit the ' +\n",
              "            '<a target=\"_blank\" href=https://colab.research.google.com/notebooks/data_table.ipynb>data table notebook</a>'\n",
              "            + ' to learn more about interactive tables.';\n",
              "          element.innerHTML = '';\n",
              "          dataTable['output_type'] = 'display_data';\n",
              "          await google.colab.output.renderOutput(dataTable, element);\n",
              "          const docLink = document.createElement('div');\n",
              "          docLink.innerHTML = docLinkHtml;\n",
              "          element.appendChild(docLink);\n",
              "        }\n",
              "      </script>\n",
              "    </div>\n",
              "  </div>\n",
              "  "
            ]
          },
          "metadata": {},
          "execution_count": 30
        }
      ]
    },
    {
      "cell_type": "code",
      "source": [
        "# save logreg model without smote\n",
        "# joblib.dump(logreg_gs_model.best_estimator_, 'logreg.pkl', compress = 1)"
      ],
      "metadata": {
        "colab": {
          "base_uri": "https://localhost:8080/"
        },
        "id": "JCAekw9f-wYr",
        "outputId": "bcdfa269-1be5-494f-efc5-e71a98d65e94"
      },
      "execution_count": null,
      "outputs": [
        {
          "output_type": "execute_result",
          "data": {
            "text/plain": [
              "['logreg.pkl']"
            ]
          },
          "metadata": {},
          "execution_count": 32
        }
      ]
    },
    {
      "cell_type": "code",
      "execution_count": null,
      "metadata": {
        "colab": {
          "base_uri": "https://localhost:8080/"
        },
        "id": "Cn-uGspMYLv4",
        "outputId": "817f7071-cd59-4ffe-b171-732966ac5b2b"
      },
      "outputs": [
        {
          "name": "stdout",
          "output_type": "stream",
          "text": [
            "Fitting 3 folds for each of 60 candidates, totalling 180 fits\n",
            "Runtime: 576.7345151901245 seconds\n",
            "Best Score: 0.45980180146412764\n",
            "Best Params: {'clf__C': 1.0, 'clf__class_weight': 'balanced', 'clf__max_iter': 100, 'clf__multi_class': 'ovr'}\n",
            "train MCC: 0.7015687939896564\n",
            "val MCC: 0.36081767488264693\n",
            "train F1-score 0.8267896535120627\n",
            "val F1-score 0.4847953050268082\n",
            "              precision    recall  f1-score   support\n",
            "\n",
            "           1       0.48      0.59      0.53        85\n",
            "           2       0.32      0.43      0.37       102\n",
            "           3       0.31      0.37      0.34       229\n",
            "           4       0.45      0.43      0.44       608\n",
            "           5       0.78      0.73      0.75      1090\n",
            "\n",
            "    accuracy                           0.58      2114\n",
            "   macro avg       0.47      0.51      0.48      2114\n",
            "weighted avg       0.60      0.58      0.59      2114\n",
            "\n"
          ]
        }
      ],
      "source": [
        "# with smote\n",
        "logreg_pipe = Pipeline([\n",
        "    ('tfidf', TfidfVectorizer(use_idf=True)),\n",
        "    ('smote', SMOTE(random_state=12)),\n",
        "    ('clf', LogisticRegression(random_state=1)),\n",
        "    ])\n",
        "logreg_params = {'clf__C': [0.01, 0.1, 1.0, 10, 100],\n",
        "                 'clf__class_weight': ['balanced', None],\n",
        "                 'clf__multi_class': ['ovr', 'multinomial'],\n",
        "                 'clf__max_iter':[100, 500, 1000]\n",
        "                 }\n",
        "logreg_gs_model, logreg_gs_df = run_grid_search(logreg_pipe, logreg_params, X_train, y_train, X_val, y_val)"
      ]
    },
    {
      "cell_type": "code",
      "execution_count": null,
      "metadata": {
        "colab": {
          "base_uri": "https://localhost:8080/",
          "height": 81
        },
        "id": "Eaz_IeMh4KvD",
        "outputId": "e0224efb-32bf-4390-9002-0fc41c5b4c13"
      },
      "outputs": [
        {
          "data": {
            "text/html": [
              "\n",
              "  <div id=\"df-8a26768a-3e19-43dc-b471-76999357e395\">\n",
              "    <div class=\"colab-df-container\">\n",
              "      <div>\n",
              "<style scoped>\n",
              "    .dataframe tbody tr th:only-of-type {\n",
              "        vertical-align: middle;\n",
              "    }\n",
              "\n",
              "    .dataframe tbody tr th {\n",
              "        vertical-align: top;\n",
              "    }\n",
              "\n",
              "    .dataframe thead th {\n",
              "        text-align: right;\n",
              "    }\n",
              "</style>\n",
              "<table border=\"1\" class=\"dataframe\">\n",
              "  <thead>\n",
              "    <tr style=\"text-align: right;\">\n",
              "      <th></th>\n",
              "      <th>model</th>\n",
              "      <th>runtime</th>\n",
              "      <th>best_score</th>\n",
              "      <th>best_params</th>\n",
              "      <th>train_mcc</th>\n",
              "      <th>val_mcc</th>\n",
              "      <th>train_f1</th>\n",
              "      <th>val_f1</th>\n",
              "    </tr>\n",
              "  </thead>\n",
              "  <tbody>\n",
              "    <tr>\n",
              "      <th>0</th>\n",
              "      <td>LogisticRegression(random_state=1)</td>\n",
              "      <td>576.734515</td>\n",
              "      <td>0.459802</td>\n",
              "      <td>{'clf__C': 1.0, 'clf__class_weight': 'balanced...</td>\n",
              "      <td>0.701569</td>\n",
              "      <td>0.360818</td>\n",
              "      <td>0.82679</td>\n",
              "      <td>0.484795</td>\n",
              "    </tr>\n",
              "  </tbody>\n",
              "</table>\n",
              "</div>\n",
              "      <button class=\"colab-df-convert\" onclick=\"convertToInteractive('df-8a26768a-3e19-43dc-b471-76999357e395')\"\n",
              "              title=\"Convert this dataframe to an interactive table.\"\n",
              "              style=\"display:none;\">\n",
              "        \n",
              "  <svg xmlns=\"http://www.w3.org/2000/svg\" height=\"24px\"viewBox=\"0 0 24 24\"\n",
              "       width=\"24px\">\n",
              "    <path d=\"M0 0h24v24H0V0z\" fill=\"none\"/>\n",
              "    <path d=\"M18.56 5.44l.94 2.06.94-2.06 2.06-.94-2.06-.94-.94-2.06-.94 2.06-2.06.94zm-11 1L8.5 8.5l.94-2.06 2.06-.94-2.06-.94L8.5 2.5l-.94 2.06-2.06.94zm10 10l.94 2.06.94-2.06 2.06-.94-2.06-.94-.94-2.06-.94 2.06-2.06.94z\"/><path d=\"M17.41 7.96l-1.37-1.37c-.4-.4-.92-.59-1.43-.59-.52 0-1.04.2-1.43.59L10.3 9.45l-7.72 7.72c-.78.78-.78 2.05 0 2.83L4 21.41c.39.39.9.59 1.41.59.51 0 1.02-.2 1.41-.59l7.78-7.78 2.81-2.81c.8-.78.8-2.07 0-2.86zM5.41 20L4 18.59l7.72-7.72 1.47 1.35L5.41 20z\"/>\n",
              "  </svg>\n",
              "      </button>\n",
              "      \n",
              "  <style>\n",
              "    .colab-df-container {\n",
              "      display:flex;\n",
              "      flex-wrap:wrap;\n",
              "      gap: 12px;\n",
              "    }\n",
              "\n",
              "    .colab-df-convert {\n",
              "      background-color: #E8F0FE;\n",
              "      border: none;\n",
              "      border-radius: 50%;\n",
              "      cursor: pointer;\n",
              "      display: none;\n",
              "      fill: #1967D2;\n",
              "      height: 32px;\n",
              "      padding: 0 0 0 0;\n",
              "      width: 32px;\n",
              "    }\n",
              "\n",
              "    .colab-df-convert:hover {\n",
              "      background-color: #E2EBFA;\n",
              "      box-shadow: 0px 1px 2px rgba(60, 64, 67, 0.3), 0px 1px 3px 1px rgba(60, 64, 67, 0.15);\n",
              "      fill: #174EA6;\n",
              "    }\n",
              "\n",
              "    [theme=dark] .colab-df-convert {\n",
              "      background-color: #3B4455;\n",
              "      fill: #D2E3FC;\n",
              "    }\n",
              "\n",
              "    [theme=dark] .colab-df-convert:hover {\n",
              "      background-color: #434B5C;\n",
              "      box-shadow: 0px 1px 3px 1px rgba(0, 0, 0, 0.15);\n",
              "      filter: drop-shadow(0px 1px 2px rgba(0, 0, 0, 0.3));\n",
              "      fill: #FFFFFF;\n",
              "    }\n",
              "  </style>\n",
              "\n",
              "      <script>\n",
              "        const buttonEl =\n",
              "          document.querySelector('#df-8a26768a-3e19-43dc-b471-76999357e395 button.colab-df-convert');\n",
              "        buttonEl.style.display =\n",
              "          google.colab.kernel.accessAllowed ? 'block' : 'none';\n",
              "\n",
              "        async function convertToInteractive(key) {\n",
              "          const element = document.querySelector('#df-8a26768a-3e19-43dc-b471-76999357e395');\n",
              "          const dataTable =\n",
              "            await google.colab.kernel.invokeFunction('convertToInteractive',\n",
              "                                                     [key], {});\n",
              "          if (!dataTable) return;\n",
              "\n",
              "          const docLinkHtml = 'Like what you see? Visit the ' +\n",
              "            '<a target=\"_blank\" href=https://colab.research.google.com/notebooks/data_table.ipynb>data table notebook</a>'\n",
              "            + ' to learn more about interactive tables.';\n",
              "          element.innerHTML = '';\n",
              "          dataTable['output_type'] = 'display_data';\n",
              "          await google.colab.output.renderOutput(dataTable, element);\n",
              "          const docLink = document.createElement('div');\n",
              "          docLink.innerHTML = docLinkHtml;\n",
              "          element.appendChild(docLink);\n",
              "        }\n",
              "      </script>\n",
              "    </div>\n",
              "  </div>\n",
              "  "
            ],
            "text/plain": [
              "                                model     runtime  best_score  \\\n",
              "0  LogisticRegression(random_state=1)  576.734515    0.459802   \n",
              "\n",
              "                                         best_params  train_mcc   val_mcc  \\\n",
              "0  {'clf__C': 1.0, 'clf__class_weight': 'balanced...   0.701569  0.360818   \n",
              "\n",
              "   train_f1    val_f1  \n",
              "0   0.82679  0.484795  "
            ]
          },
          "execution_count": 52,
          "metadata": {},
          "output_type": "execute_result"
        }
      ],
      "source": [
        "logreg_gs_df"
      ]
    },
    {
      "cell_type": "markdown",
      "source": [
        "The logistic regression model performed worst with SMOTE applied and the runtime was 4x as long."
      ],
      "metadata": {
        "id": "qvQZfa_w_Qr1"
      }
    },
    {
      "cell_type": "markdown",
      "source": [
        "## LightGBM"
      ],
      "metadata": {
        "id": "nFFT9oFW-bSH"
      }
    },
    {
      "cell_type": "code",
      "execution_count": null,
      "metadata": {
        "colab": {
          "base_uri": "https://localhost:8080/"
        },
        "id": "jyeHHzfT8KAS",
        "outputId": "24aac6fa-2873-45e8-dda4-0ed271a117bb"
      },
      "outputs": [
        {
          "output_type": "stream",
          "name": "stdout",
          "text": [
            "Fitting 3 folds for each of 36 candidates, totalling 108 fits\n",
            "Runtime: 986.9799633026123 seconds\n",
            "Best Score: 0.4107158701619809\n",
            "Best Params: {'clf__lambda_l1': 1.5, 'clf__lambda_l2': 0, 'clf__min_data_in_leaf': 30, 'clf__reg_alpha': 0.1}\n",
            "train MCC: 0.7644863913888313\n",
            "val MCC: 0.31716935241717087\n",
            "train F1-score 0.8609484864052362\n",
            "val F1-score 0.4299328603434146\n",
            "              precision    recall  f1-score   support\n",
            "\n",
            "           1       0.65      0.39      0.49        85\n",
            "           2       0.41      0.17      0.24       102\n",
            "           3       0.37      0.20      0.26       229\n",
            "           4       0.44      0.39      0.41       608\n",
            "           5       0.68      0.85      0.76      1090\n",
            "\n",
            "    accuracy                           0.59      2114\n",
            "   macro avg       0.51      0.40      0.43      2114\n",
            "weighted avg       0.56      0.59      0.57      2114\n",
            "\n"
          ]
        }
      ],
      "source": [
        "# lighGBM without smote\n",
        "lgbm_pipe = Pipeline([\n",
        "    ('tfidf', TfidfVectorizer(use_idf=True)),\n",
        "    # ('smote', SMOTE(random_state=12)),\n",
        "    ('clf', LGBMClassifier(objective='multiclass', random_state=12)),\n",
        "    ])\n",
        "\n",
        "param_grid = {\n",
        "    'clf__reg_alpha': [0.1, 0.5],\n",
        "    'clf__min_data_in_leaf': [30, 50, 100],\n",
        "    'clf__lambda_l1': [0, 1, 1.5],\n",
        "    'clf__lambda_l2': [0, 1]\n",
        "    }\n",
        "lgbm_gs_model, lgbm_gs_df  = run_grid_search(lgbm_pipe, param_grid, X_train, y_train, X_val, y_val)"
      ]
    },
    {
      "cell_type": "code",
      "source": [
        "# save lgbm model without smote\n",
        "# joblib.dump(lgbm_gs_model.best_estimator_, 'lgbm.pkl', compress = 1)"
      ],
      "metadata": {
        "colab": {
          "base_uri": "https://localhost:8080/"
        },
        "id": "27gkh8BEOTpd",
        "outputId": "e5d0e93a-3cf3-41b3-9047-42739277480b"
      },
      "execution_count": null,
      "outputs": [
        {
          "output_type": "execute_result",
          "data": {
            "text/plain": [
              "['lgbm.pkl']"
            ]
          },
          "metadata": {},
          "execution_count": 37
        }
      ]
    },
    {
      "cell_type": "code",
      "source": [
        "# lighGBM smote\n",
        "lgbm_pipe = Pipeline([\n",
        "    ('tfidf', TfidfVectorizer(use_idf=True)),\n",
        "    ('smote', SMOTE(random_state=12)),\n",
        "    ('clf', LGBMClassifier(objective='multiclass', random_state=12)),\n",
        "    ])\n",
        "\n",
        "param_grid = {\n",
        "    'clf__reg_alpha': [0.1, 0.5],\n",
        "    'clf__min_data_in_leaf': [30, 50, 100],\n",
        "    'clf__lambda_l1': [0, 1, 1.5],\n",
        "    'clf__lambda_l2': [0, 1]\n",
        "    }\n",
        "lgbm_gs_model, lgbm_gs_df  = run_grid_search(lgbm_pipe, param_grid, X_train, y_train, X_val, y_val)"
      ],
      "metadata": {
        "colab": {
          "base_uri": "https://localhost:8080/"
        },
        "id": "wDB5cuTGOk0D",
        "outputId": "ef698c1f-afe6-4f69-97b9-4f32b4479fdd"
      },
      "execution_count": null,
      "outputs": [
        {
          "output_type": "stream",
          "name": "stdout",
          "text": [
            "Fitting 3 folds for each of 36 candidates, totalling 108 fits\n",
            "Runtime: 4404.966264247894 seconds\n",
            "Best Score: 0.4479004520666376\n",
            "Best Params: {'clf__lambda_l1': 0, 'clf__lambda_l2': 0, 'clf__min_data_in_leaf': 100, 'clf__reg_alpha': 0.1}\n",
            "train MCC: 0.6791590821655314\n",
            "val MCC: 0.33694630391444114\n",
            "train F1-score 0.805666277622229\n",
            "val F1-score 0.46120660155587123\n",
            "              precision    recall  f1-score   support\n",
            "\n",
            "           1       0.53      0.49      0.51        85\n",
            "           2       0.34      0.27      0.30       102\n",
            "           3       0.35      0.27      0.30       229\n",
            "           4       0.45      0.43      0.44       608\n",
            "           5       0.72      0.78      0.75      1090\n",
            "\n",
            "    accuracy                           0.59      2114\n",
            "   macro avg       0.48      0.45      0.46      2114\n",
            "weighted avg       0.57      0.59      0.58      2114\n",
            "\n"
          ]
        }
      ]
    },
    {
      "cell_type": "code",
      "source": [],
      "metadata": {
        "id": "3wYBlqNF45Lm"
      },
      "execution_count": null,
      "outputs": []
    },
    {
      "cell_type": "code",
      "source": [],
      "metadata": {
        "id": "QpKSxsrd446X"
      },
      "execution_count": null,
      "outputs": []
    }
  ],
  "metadata": {
    "colab": {
      "collapsed_sections": [
        "8WhbwJ1YMIX9",
        "8rctOQGaOuSO",
        "uh3OmYzOOzeZ"
      ],
      "provenance": [],
      "mount_file_id": "1bWyGF_1QnJMIuv3PTBqa7bXXm50QRHYh",
      "authorship_tag": "ABX9TyPHqNYsijTjgz76dADnkRge",
      "include_colab_link": true
    },
    "kernelspec": {
      "display_name": "Python 3",
      "name": "python3"
    },
    "language_info": {
      "name": "python"
    }
  },
  "nbformat": 4,
  "nbformat_minor": 0
}