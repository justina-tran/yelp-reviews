{
 "cells": [
  {
   "cell_type": "code",
   "execution_count": 2,
   "metadata": {},
   "outputs": [],
   "source": [
    "!pip install -q selenium"
   ]
  },
  {
   "cell_type": "code",
   "execution_count": 2,
   "metadata": {},
   "outputs": [],
   "source": [
    "import pandas as pd\n",
    "import csv\n",
    "import time"
   ]
  },
  {
   "cell_type": "code",
   "execution_count": 1,
   "metadata": {},
   "outputs": [],
   "source": [
    "from selenium import webdriver\n",
    "from selenium.webdriver.common.keys import Keys\n",
    "from selenium.webdriver.common.by import By\n",
    "\n",
    "from selenium.webdriver.chrome.options import Options\n",
    "from selenium.webdriver.support.ui import WebDriverWait\n",
    "from selenium.webdriver.support import expected_conditions as EC\n",
    "from selenium.common.exceptions import TimeoutException, WebDriverException"
   ]
  },
  {
   "cell_type": "code",
   "execution_count": 2,
   "metadata": {},
   "outputs": [
    {
     "name": "stdout",
     "output_type": "stream",
     "text": [
      "50\n",
      "['bar-pa-tea-new-york-2', 'teado-tea-shop-new-york-6', 'tea-and-milk-astoria', 'yumpling-long-island-city', 'juice-vitality-new-york', 'hancos-brooklyn', 'tiger-sugar-new-york-9', 'taiyaki-nyc-williamsburg-brooklyn-7', 'yaya-tea-garden-new-york-3', 'surreal-creamery-new-york-2', 'vivi-bubble-tea-new-york-6', 'i-milky-沐白-new-york-4', 'sashimi-express-new-york-2', 'ten-rens-tea-time-new-york-2', 'mi-tea-new-york-4', 'patea-new-york-6', 'banh-mi-place-brooklyn', 'hanco-s-brooklyn', 'debutea-new-york', 'kung-fu-tea-new-york-31', 'cream-coffee-and-tea-shop-brooklyn-2', 'kung-fu-tea-new-york-35', 'bread-and-joe-brooklyn-2', 'yaya-tea-grand-new-york-2', 'smoove-ice-cream-new-york-2']\n",
      "['kung-fu-tea-new-york-10', 'taiwan-bear-house-new-york', 'hawa-smoothies-and-bubble-tea-new-york', 'savory-thai-brooklyn-4', 'gong-cha-new-york-9', 'banhmigos-brooklyn-5', 'one-more-charm-brooklyn', 'bambu-new-york', 'biao-sugar-new-york', 'xing-fu-tang-new-york', 'dragon-tea-new-york-3', 'noodlecraft-long-island-city', 'the-teapsy-new-york-astoria', 'truedan-new-york-3', 'shiny-tea-new-york', 'chun-yang-tea-new-york', 'infinitea-ny-astoria', 'teazzi-tea-shop-new-york', 'cheesecake-diva-brooklyn', 'squarrel-cafe-brooklyn', 'lotus-vietnamese-sandwiches-brooklyn', 'sip-n-play-brooklyn', 'minus-celsius-ice-cream-new-york', 'ajisen-ramen-new-york-2', 'juicy-cube-new-york']\n"
     ]
    }
   ],
   "source": [
    "nyc_stores = pd.read_csv('data/nyc_boba_store50.csv')\n",
    "stores = nyc_stores['alias'].tolist()\n",
    "print(len(stores))"
   ]
  },
  {
   "cell_type": "code",
   "execution_count": 7,
   "metadata": {},
   "outputs": [
    {
     "name": "stderr",
     "output_type": "stream",
     "text": [
      "/Users/justinatran/opt/anaconda3/lib/python3.7/site-packages/ipykernel_launcher.py:1: DeprecationWarning: executable_path has been deprecated, please pass in a Service object\n",
      "  \"\"\"Entry point for launching an IPython kernel.\n"
     ]
    }
   ],
   "source": [
    "driver = webdriver.Chrome('/Users/justinatran/Downloads/chromedriver')"
   ]
  },
  {
   "cell_type": "code",
   "execution_count": 4,
   "metadata": {},
   "outputs": [],
   "source": [
    "def get_data(csvwriter, store_alias):\n",
    "  reviews = driver.find_elements(By.CSS_SELECTOR, \"p.comment__09f24__gu0rG span.raw__09f24__T4Ezm\")\n",
    "  username = driver.find_elements(By.CSS_SELECTOR, \"span.fs-block a.css-1m051bw\")\n",
    "  user_loc = driver.find_elements(By.CSS_SELECTOR, \"div.review__09f24__oHr9V span.css-qgunke\") #first item in the list is 'Location'\n",
    "  rating = driver.find_elements(By.CSS_SELECTOR, \"div.review__09f24__oHr9V div.five-stars__09f24__mBKym\")\n",
    "  date = driver.find_elements(By.CSS_SELECTOR, \"div.review__09f24__oHr9V span.css-chan6m\")\n",
    "\n",
    "  # create lists of all the items\n",
    "  reviews_list = [r.text for r in reviews]\n",
    "  username_list = [u.text for u in username]\n",
    "  user_loc_list = [u.text for u in user_loc]\n",
    "  rating_list = [r.get_attribute(\"aria-label\") for r in rating]\n",
    "  date_list = [r.text for r in date]\n",
    "\n",
    "  for (date, username, loc, rating, review) in zip(date_list, username_list, user_loc_list, rating_list, reviews_list):\n",
    "    csvwriter.writerow([store_alias, date, username, loc, rating, review])"
   ]
  },
  {
   "cell_type": "code",
   "execution_count": 5,
   "metadata": {},
   "outputs": [],
   "source": [
    "def fetch_reviews(csv_writer, store_alias):\n",
    "    while True:\n",
    "        try:\n",
    "            get_data(csv_writer, store_alias)\n",
    "            # go next page\n",
    "            driver.find_element(By.CSS_SELECTOR, \"span.css-foyide a.next-link\").click()\n",
    "            WebDriverWait(driver, 30).until(\n",
    "                EC.element_to_be_clickable((By.CSS_SELECTOR, \"span.css-foyide a.next-link\")))\n",
    "            time.sleep(5)\n",
    "            \n",
    "        except (TimeoutException, WebDriverException) as e:\n",
    "            print(\"Last page reached\")\n",
    "            break\n",
    "    \n",
    "    #driver.quit()\n",
    "    \n"
   ]
  },
  {
   "cell_type": "code",
   "execution_count": 8,
   "metadata": {},
   "outputs": [
    {
     "name": "stdout",
     "output_type": "stream",
     "text": [
      "Last page reached\n",
      "Last page reached\n",
      "Last page reached\n",
      "Last page reached\n",
      "Last page reached\n",
      "Last page reached\n",
      "Last page reached\n",
      "Last page reached\n",
      "Last page reached\n",
      "Last page reached\n",
      "Last page reached\n",
      "Last page reached\n",
      "Last page reached\n",
      "Last page reached\n",
      "Last page reached\n",
      "Last page reached\n",
      "Last page reached\n",
      "Last page reached\n",
      "Last page reached\n",
      "Last page reached\n",
      "Last page reached\n",
      "Last page reached\n",
      "Last page reached\n",
      "Last page reached\n",
      "Last page reached\n"
     ]
    }
   ],
   "source": [
    "# get results and write to csv\n",
    "with open('nyc_reviews.csv', 'w', encoding='utf-8') as csvfile:\n",
    "  csv_writer = csv.writer(csvfile)\n",
    "  # add column names as first row\n",
    "  csv_writer.writerow(['store','date', 'username', 'user_loc', 'rating','reviews'])\n",
    "  # get all data\n",
    "  for store in stores:\n",
    "    site = driver.get(f'https://www.yelp.com/biz/{store}')\n",
    "    fetch_reviews(csv_writer, store)\n",
    "  "
   ]
  },
  {
   "cell_type": "markdown",
   "metadata": {},
   "source": [
    "## Checking Output Results"
   ]
  },
  {
   "cell_type": "code",
   "execution_count": 11,
   "metadata": {},
   "outputs": [
    {
     "name": "stdout",
     "output_type": "stream",
     "text": [
      "<class 'pandas.core.frame.DataFrame'>\n",
      "RangeIndex: 4660 entries, 0 to 4659\n",
      "Data columns (total 6 columns):\n",
      "store       4660 non-null object\n",
      "date        4660 non-null object\n",
      "username    4660 non-null object\n",
      "user_loc    4660 non-null object\n",
      "rating      4660 non-null object\n",
      "reviews     4660 non-null object\n",
      "dtypes: object(6)\n",
      "memory usage: 218.5+ KB\n"
     ]
    }
   ],
   "source": [
    "nyc_reviews_final = pd.read_csv('nyc_reviews.csv')\n",
    "nyc_reviews_final.info()"
   ]
  },
  {
   "cell_type": "code",
   "execution_count": 5,
   "metadata": {},
   "outputs": [],
   "source": [
    "nyc_reviews_final.to_csv('nyc_reviews_final.csv', index=False)"
   ]
  }
 ],
 "metadata": {
  "kernelspec": {
   "display_name": "Python 3 (ipykernel)",
   "language": "python",
   "name": "python3"
  },
  "language_info": {
   "codemirror_mode": {
    "name": "ipython",
    "version": 3
   },
   "file_extension": ".py",
   "mimetype": "text/x-python",
   "name": "python",
   "nbconvert_exporter": "python",
   "pygments_lexer": "ipython3",
   "version": "3.7.6"
  },
  "vscode": {
   "interpreter": {
    "hash": "59b4edfabc9809b28d1200572df01ff44651387071950e18bf2a522ceffa020c"
   }
  }
 },
 "nbformat": 4,
 "nbformat_minor": 2
}
